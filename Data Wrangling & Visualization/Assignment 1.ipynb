{
 "cells": [
  {
   "cell_type": "markdown",
   "metadata": {},
   "source": [
    "## 1. Create a null vector of size 10 but the fifth value which is 1"
   ]
  },
  {
   "cell_type": "code",
   "execution_count": 16,
   "metadata": {},
   "outputs": [
    {
     "name": "stdout",
     "output_type": "stream",
     "text": [
      "[0. 0. 0. 0. 1. 0. 0. 0. 0. 0.]\n"
     ]
    }
   ],
   "source": [
    "import numpy as np\n",
    "\n",
    "def create_null_vector(size):\n",
    "    \n",
    "    # Create a null vector of the specified size\n",
    "    null_vector = np.zeros(size)\n",
    "\n",
    "    # Set the fifth value to 1\n",
    "    null_vector[4] = 1\n",
    "\n",
    "    return null_vector\n",
    "\n",
    "# Example usage:\n",
    "size_of_vector = 10\n",
    "null_vector = create_null_vector(size_of_vector)\n",
    "print(null_vector)\n"
   ]
  },
  {
   "cell_type": "markdown",
   "metadata": {},
   "source": [
    "## 2. Create a vector with values ranging from 10 to 49."
   ]
  },
  {
   "cell_type": "code",
   "execution_count": 15,
   "metadata": {},
   "outputs": [
    {
     "name": "stdout",
     "output_type": "stream",
     "text": [
      "[10 11 12 13 14 15 16 17 18 19 20 21 22 23 24 25 26 27 28 29 30 31 32 33\n",
      " 34 35 36 37 38 39 40 41 42 43 44 45 46 47 48 49]\n"
     ]
    }
   ],
   "source": [
    "import numpy as np\n",
    "\n",
    "def create_vector(start, end):\n",
    "    \n",
    "    return np.arange(start, end)\n",
    "\n",
    "# Example usage:\n",
    "start_value = 10\n",
    "end_value = 50\n",
    "vector = create_vector(start_value, end_value)\n",
    "print(vector)\n"
   ]
  },
  {
   "cell_type": "markdown",
   "metadata": {},
   "source": [
    "## 3. Create a 3x3 matrix with values ranging from 0 to 8"
   ]
  },
  {
   "cell_type": "code",
   "execution_count": 14,
   "metadata": {},
   "outputs": [
    {
     "name": "stdout",
     "output_type": "stream",
     "text": [
      "[[0 1 2]\n",
      " [3 4 5]\n",
      " [6 7 8]]\n"
     ]
    }
   ],
   "source": [
    "import numpy as np\n",
    "\n",
    "def create_matrix():\n",
    "    # Create a 1-dimensional array with values ranging from 0 to 8\n",
    "    array_1d = np.arange(9)\n",
    "    \n",
    "    # Reshape the 1-dimensional array into a 3x3 matrix\n",
    "    matrix_3x3 = array_1d.reshape(3, 3)\n",
    "    \n",
    "    return matrix_3x3\n",
    "\n",
    "# Call the function\n",
    "resulting_matrix = create_matrix()\n",
    "\n",
    "print(resulting_matrix)\n"
   ]
  },
  {
   "cell_type": "markdown",
   "metadata": {},
   "source": [
    "## 4. Find indices of non-zero elements from [1,2,0,0,4,0]"
   ]
  },
  {
   "cell_type": "code",
   "execution_count": 13,
   "metadata": {},
   "outputs": [
    {
     "name": "stdout",
     "output_type": "stream",
     "text": [
      "(array([0, 1, 4], dtype=int64),)\n"
     ]
    }
   ],
   "source": [
    "import numpy as np\n",
    "\n",
    "def find_non_zero_indices(arr):\n",
    "    # Find indices of non-zero elements\n",
    "    non_zero_indices = np.nonzero(arr)\n",
    "    \n",
    "    return non_zero_indices\n",
    "\n",
    "# Example usage:\n",
    "arr = np.array([1, 2, 0, 0, 4, 0])\n",
    "non_zero_indices = find_non_zero_indices(arr)\n",
    "print(non_zero_indices)\n"
   ]
  },
  {
   "cell_type": "markdown",
   "metadata": {},
   "source": [
    "## 5. Create a 10x10 array with random values and find the minimum and maximum values"
   ]
  },
  {
   "cell_type": "code",
   "execution_count": 9,
   "metadata": {},
   "outputs": [
    {
     "name": "stdout",
     "output_type": "stream",
     "text": [
      "Array:\n",
      "[[ 10  23  69  40   1  70  45  67  17  32]\n",
      " [ 38  97  17  39  10  90  12   7   5  68]\n",
      " [ 46 100   8  98  26  51  49  60  49  40]\n",
      " [ 24  18  30  15  10   8  21  98  66  98]\n",
      " [ 69  83  40  66  27  91  43  89  32   0]\n",
      " [ 59  21  51  20  98  22   9  87  68   2]\n",
      " [ 74  37  62  93  13  60  71  78  80  63]\n",
      " [ 82  24  91  85  84  58  10  65  38  41]\n",
      " [ 95  88  93  33  31  74   4  87  24  78]\n",
      " [ 93   5  69  78  56  55  10  96  51  99]]\n",
      "\n",
      "Minimum value: 0\n",
      "Maximum value: 100\n"
     ]
    }
   ],
   "source": [
    "import numpy as np\n",
    "\n",
    "def find_min_max():\n",
    "    # Create a 10x10 array with random integer values between 0 and 100\n",
    "    array = np.random.randint(0, 101, size=(10, 10))  # Generates integers between 0 and 100 inclusive\n",
    "    \n",
    "    # Find the minimum and maximum values\n",
    "    min_value = np.min(array)\n",
    "    max_value = np.max(array)\n",
    "    \n",
    "    return array, min_value, max_value\n",
    "\n",
    "# Call the function\n",
    "array, min_value, max_value = find_min_max()\n",
    "\n",
    "print(\"Array:\")\n",
    "print(array)\n",
    "print(\"\\nMinimum value:\", min_value)\n",
    "print(\"Maximum value:\", max_value)\n"
   ]
  },
  {
   "cell_type": "markdown",
   "metadata": {},
   "source": [
    "## 6. Create a random vector of size 30 and find the mean value.\n"
   ]
  },
  {
   "cell_type": "code",
   "execution_count": 12,
   "metadata": {},
   "outputs": [
    {
     "name": "stdout",
     "output_type": "stream",
     "text": [
      "Random Vector:\n",
      "[69  2 55  1  7 33 50 21 65 63  2 70  6 68 85 97 43 30 98 64 19 12  6 79\n",
      " 83 62 53 40 45 11]\n",
      "\n",
      "Mean value: 44.63333333333333\n"
     ]
    }
   ],
   "source": [
    "import numpy as np\n",
    "\n",
    "def find_mean():\n",
    "    # Create a random vector of size 30\n",
    "    random_vector = np.random.randint(0,101,30)\n",
    "    \n",
    "    # Calculate the mean value\n",
    "    mean_value = np.mean(random_vector)\n",
    "    \n",
    "    return random_vector, mean_value\n",
    "\n",
    "# Call the function\n",
    "random_vector, mean_value = find_mean()\n",
    "\n",
    "print(\"Random Vector:\")\n",
    "print(random_vector)\n",
    "print(\"\\nMean value:\", mean_value)\n"
   ]
  }
 ],
 "metadata": {
  "kernelspec": {
   "display_name": "Python 3",
   "language": "python",
   "name": "python3"
  },
  "language_info": {
   "codemirror_mode": {
    "name": "ipython",
    "version": 3
   },
   "file_extension": ".py",
   "mimetype": "text/x-python",
   "name": "python",
   "nbconvert_exporter": "python",
   "pygments_lexer": "ipython3",
   "version": "3.11.4"
  }
 },
 "nbformat": 4,
 "nbformat_minor": 2
}
