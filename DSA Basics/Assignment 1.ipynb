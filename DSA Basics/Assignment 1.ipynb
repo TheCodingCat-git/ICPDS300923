{
 "cells": [
  {
   "cell_type": "markdown",
   "metadata": {},
   "source": [
    "## 1. Write a program to find all pairs of an integer array whose sum is equal to a given number?"
   ]
  },
  {
   "cell_type": "code",
   "execution_count": 2,
   "metadata": {},
   "outputs": [
    {
     "name": "stdout",
     "output_type": "stream",
     "text": [
      "Pairs with sum 7: [(3, 4), (2, 5), (-2, 9)]\n"
     ]
    }
   ],
   "source": [
    "def find_pairs_with_sum(arr, target_sum):\n",
    "    pairs = []\n",
    "    seen = set()\n",
    "\n",
    "    for num in arr:\n",
    "        complement = target_sum - num\n",
    "        if complement in seen:\n",
    "            pair = (min(num, complement), max(num, complement))\n",
    "            if pair not in pairs:\n",
    "                pairs.append(pair)\n",
    "        seen.add(num)\n",
    "\n",
    "    return pairs\n",
    "\n",
    "# Take input from the user for the array\n",
    "arr = list(map(int, input(\"Enter the array of integers separated by space: \").split()))\n",
    "\n",
    "# Take input from the user for the target sum\n",
    "target = int(input(\"Enter the target sum: \"))\n",
    "\n",
    "result = find_pairs_with_sum(arr, target)\n",
    "print(f\"Pairs with sum {target}: {result}\")\n"
   ]
  },
  {
   "cell_type": "markdown",
   "metadata": {},
   "source": [
    "## 2. Write a program to reverse an array in place? In place means you cannot create a new array. You have to update the original array."
   ]
  },
  {
   "cell_type": "code",
   "execution_count": 3,
   "metadata": {},
   "outputs": [
    {
     "name": "stdout",
     "output_type": "stream",
     "text": [
      "Original Array: [2, 3, 7, 9]\n",
      "Reversed Array: [9, 7, 3, 2]\n"
     ]
    }
   ],
   "source": [
    "def reverse_array(arr):\n",
    "    start_index = 0\n",
    "    end_index = len(arr) - 1\n",
    "\n",
    "    while start_index < end_index:\n",
    "        # Swap elements at start_index and end_index\n",
    "        arr[start_index], arr[end_index] = arr[end_index], arr[start_index]\n",
    "        start_index += 1\n",
    "        end_index -= 1\n",
    "\n",
    "    return arr\n",
    "\n",
    "# Take input from the user for the array\n",
    "arr = list(map(int, input(\"Enter the array of integers separated by space: \").split()))\n",
    "\n",
    "print(\"Original Array:\", arr)\n",
    "reverse_array(arr)\n",
    "print(\"Reversed Array:\", arr)\n"
   ]
  },
  {
   "cell_type": "markdown",
   "metadata": {},
   "source": [
    "## 3. Write a program to check if two strings are a rotation of each other?"
   ]
  },
  {
   "cell_type": "code",
   "execution_count": 5,
   "metadata": {},
   "outputs": [
    {
     "name": "stdout",
     "output_type": "stream",
     "text": [
      "'rotation' and 'tionrota' are rotations of each other.\n"
     ]
    }
   ],
   "source": [
    "def are_rotations(str1, str2):\n",
    "    # Check if both strings have the same length and are not empty\n",
    "    if len(str1) != len(str2) or len(str1) == 0:\n",
    "        return False\n",
    "\n",
    "    # Concatenate str1 with itself\n",
    "    concatenated = str1 + str1\n",
    "\n",
    "    # Check if str2 is a substring of the concatenated string\n",
    "    if str2 in concatenated:\n",
    "        return True\n",
    "    else:\n",
    "        return False\n",
    "\n",
    "# Example usage:\n",
    "string1 = input(\"Enter the first string: \")\n",
    "string2 = input(\"Enter the second string: \")\n",
    "\n",
    "if are_rotations(string1, string2):\n",
    "    print(f\"'{string1}' and '{string2}' are rotations of each other.\")\n",
    "else:\n",
    "    print(f\"'{string1}' and '{string2}' are not rotations of each other.\")\n"
   ]
  },
  {
   "cell_type": "markdown",
   "metadata": {},
   "source": [
    "## 4. Write a program to print the first non-repeated character from a string?"
   ]
  },
  {
   "cell_type": "code",
   "execution_count": 6,
   "metadata": {},
   "outputs": [
    {
     "name": "stdout",
     "output_type": "stream",
     "text": [
      "The first non-repeated character in 'Programming' is: P\n"
     ]
    }
   ],
   "source": [
    "def first_non_repeated_char(string):\n",
    "    # Create a dictionary to store character frequency\n",
    "    char_count = {}\n",
    "\n",
    "    # Count occurrences of each character in the string\n",
    "    for char in string:\n",
    "        if char in char_count:\n",
    "            char_count[char] += 1\n",
    "        else:\n",
    "            char_count[char] = 1\n",
    "\n",
    "    # Find the first non-repeated character\n",
    "    for char in string:\n",
    "        if char_count[char] == 1:\n",
    "            return char\n",
    "\n",
    "    # If no non-repeated character found, return None\n",
    "    return None\n",
    "\n",
    "# Example usage:\n",
    "input_string = input(\"Enter a string: \")\n",
    "\n",
    "result = first_non_repeated_char(input_string)\n",
    "\n",
    "if result:\n",
    "    print(f\"The first non-repeated character in '{input_string}' is: {result}\")\n",
    "else:\n",
    "    print(f\"There is no non-repeated character in '{input_string}'.\")\n"
   ]
  },
  {
   "cell_type": "markdown",
   "metadata": {},
   "source": [
    "## 5. Read about the Tower of Hanoi algorithm. Write a program to implement it."
   ]
  },
  {
   "cell_type": "markdown",
   "metadata": {},
   "source": [
    "```Procedure:\n",
    "1. If there is only one disk, move it from source to destination.\n",
    "2. Move n-1 disks from the source to the auxiliary peg.\n",
    "3. Move the nth disk from the source to the destination.\n",
    "4. Move the n-1 disks from the auxiliary peg to the destination peg.\n",
    "\n",
    "This process can be further broken down into recursive steps until we solve the problem for smaller sub-problems."
   ]
  },
  {
   "cell_type": "code",
   "execution_count": 7,
   "metadata": {},
   "outputs": [
    {
     "name": "stdout",
     "output_type": "stream",
     "text": [
      "Move disk 1 from A to C\n",
      "Move disk 2 from A to B\n",
      "Move disk 1 from C to B\n",
      "Move disk 3 from A to C\n",
      "Move disk 1 from B to A\n",
      "Move disk 2 from B to C\n",
      "Move disk 1 from A to C\n"
     ]
    }
   ],
   "source": [
    "def tower_of_hanoi(n, source, auxiliary, destination):\n",
    "    if n == 1:\n",
    "        print(f\"Move disk 1 from {source} to {destination}\")\n",
    "        return\n",
    "\n",
    "    tower_of_hanoi(n - 1, source, destination, auxiliary)\n",
    "    print(f\"Move disk {n} from {source} to {destination}\")\n",
    "    tower_of_hanoi(n - 1, auxiliary, source, destination)\n",
    "\n",
    "# Example usage\n",
    "num_disks = int(input(\"Enter the number of disks: \"))\n",
    "\n",
    "tower_of_hanoi(num_disks, 'A', 'B', 'C')  # 'A', 'B', and 'C' are the names of the rods\n"
   ]
  },
  {
   "cell_type": "markdown",
   "metadata": {},
   "source": [
    "## 6. Read about infix, prefix, and postfix expressions. Write a program to convert postfix to prefix expression.\n"
   ]
  },
  {
   "cell_type": "code",
   "execution_count": 8,
   "metadata": {},
   "outputs": [
    {
     "name": "stdout",
     "output_type": "stream",
     "text": [
      "The equivalent prefix expression is: +*54*32\n"
     ]
    }
   ],
   "source": [
    "def postfix_to_prefix(postfix_expression):\n",
    "    stack = []\n",
    "\n",
    "    # Iterate through the postfix expression\n",
    "    for token in postfix_expression.split():\n",
    "        if token.isalnum():  # Operand\n",
    "            stack.append(token)\n",
    "        else:  # Operator\n",
    "            operand2 = stack.pop()\n",
    "            operand1 = stack.pop()\n",
    "            prefix = token + operand1 + operand2\n",
    "            stack.append(prefix)\n",
    "\n",
    "    # The final element in the stack will be the prefix expression\n",
    "    return stack.pop()\n",
    "\n",
    "# Example usage\n",
    "postfix_expr = input(\"Enter a postfix expression: \")\n",
    "prefix_result = postfix_to_prefix(postfix_expr)\n",
    "print(f\"The equivalent prefix expression is: {prefix_result}\")\n"
   ]
  },
  {
   "cell_type": "markdown",
   "metadata": {},
   "source": [
    "## 7. Write a program to convert prefix expression to infix expression."
   ]
  },
  {
   "cell_type": "code",
   "execution_count": 9,
   "metadata": {},
   "outputs": [
    {
     "name": "stdout",
     "output_type": "stream",
     "text": [
      "The equivalent infix expression is: ((5 * 4) + (3 * 2))\n"
     ]
    }
   ],
   "source": [
    "def is_operator(char):\n",
    "    return char in ['+', '-', '*', '/', '^']\n",
    "\n",
    "def prefix_to_infix(prefix_expression):\n",
    "    stack = []\n",
    "\n",
    "    # Iterate through the prefix expression in reverse\n",
    "    for token in reversed(prefix_expression.split()):\n",
    "        if not is_operator(token):  # Operand\n",
    "            stack.append(token)\n",
    "        else:  # Operator\n",
    "            operand1 = stack.pop()\n",
    "            operand2 = stack.pop()\n",
    "            infix = f\"({operand1} {token} {operand2})\"\n",
    "            stack.append(infix)\n",
    "\n",
    "    # The final element in the stack will be the infix expression\n",
    "    return stack.pop()\n",
    "\n",
    "# Example usage\n",
    "prefix_expr = input(\"Enter a prefix expression: \")\n",
    "infix_result = prefix_to_infix(prefix_expr)\n",
    "print(f\"The equivalent infix expression is: {infix_result}\")\n"
   ]
  },
  {
   "cell_type": "markdown",
   "metadata": {},
   "source": [
    "## 8. Write a program to check if all the brackets are closed in a given code snippet."
   ]
  },
  {
   "cell_type": "code",
   "execution_count": 10,
   "metadata": {},
   "outputs": [
    {
     "name": "stdout",
     "output_type": "stream",
     "text": [
      "All brackets are properly closed.\n"
     ]
    }
   ],
   "source": [
    "def are_brackets_balanced(code):\n",
    "    stack = []\n",
    "    opening_brackets = \"({[\"\n",
    "    closing_brackets = \")}]\"\n",
    "\n",
    "    # Iterate through each character in the code snippet\n",
    "    for char in code:\n",
    "        if char in opening_brackets:\n",
    "            stack.append(char)\n",
    "        elif char in closing_brackets:\n",
    "            # If the stack is empty or the brackets don't match\n",
    "            if not stack or opening_brackets.index(stack.pop()) != closing_brackets.index(char):\n",
    "                return False\n",
    "\n",
    "    # Check if any opening brackets are left unclosed\n",
    "    return not stack\n",
    "\n",
    "# Example usage\n",
    "code_snippet = input(\"Enter a code snippet: \")\n",
    "\n",
    "if are_brackets_balanced(code_snippet):\n",
    "    print(\"All brackets are properly closed.\")\n",
    "else:\n",
    "    print(\"Not all brackets are closed properly or are mismatched.\")\n"
   ]
  },
  {
   "cell_type": "markdown",
   "metadata": {},
   "source": [
    "## 9. Write a program to reverse a stack"
   ]
  },
  {
   "cell_type": "code",
   "execution_count": 15,
   "metadata": {},
   "outputs": [
    {
     "name": "stdout",
     "output_type": "stream",
     "text": [
      "Reversed stack: [1, 2, 3]\n"
     ]
    }
   ],
   "source": [
    "class Stack:\n",
    "    def __init__(self):\n",
    "        self.items = []\n",
    "\n",
    "    def push(self, item):\n",
    "        self.items.append(item)\n",
    "\n",
    "    def pop(self):\n",
    "        if not self.is_empty():\n",
    "            return self.items.pop()\n",
    "        else:\n",
    "            raise IndexError(\"Stack is empty\")\n",
    "\n",
    "    def is_empty(self):\n",
    "        return len(self.items) == 0\n",
    "\n",
    "    def peek(self):\n",
    "        if not self.is_empty():\n",
    "            return self.items[-1]\n",
    "        else:\n",
    "            raise IndexError(\"Stack is empty\")\n",
    "\n",
    "    def reverse(self):\n",
    "        reversed_stack = Stack()\n",
    "        while not self.is_empty():\n",
    "            reversed_stack.push(self.pop())\n",
    "        return reversed_stack\n",
    "\n",
    "def main():\n",
    "    stack = Stack()\n",
    "\n",
    "    # Get input from the user with validation\n",
    "    while True:\n",
    "        try:\n",
    "            num_elements = int(input(\"Enter the number of elements: \"))\n",
    "            break\n",
    "        except ValueError:\n",
    "            print(\"Invalid input. Please enter a single integer.\")\n",
    "\n",
    "    for i in range(num_elements):\n",
    "        while True:\n",
    "            try:\n",
    "                element = int(input(f\"Enter element {i+1}: \"))\n",
    "                break\n",
    "            except ValueError:\n",
    "                print(\"Invalid input. Please enter an integer.\")\n",
    "        stack.push(element)\n",
    "\n",
    "    reversed_stack = stack.reverse()\n",
    "\n",
    "    # print(\"Original stack:\", stack.items)\n",
    "    print(\"Reversed stack:\", reversed_stack.items)\n",
    "\n",
    "if __name__ == \"__main__\":\n",
    "    main()\n"
   ]
  },
  {
   "cell_type": "markdown",
   "metadata": {},
   "source": [
    "## 10. Write a program to find the smallest number using a stack."
   ]
  },
  {
   "cell_type": "code",
   "execution_count": 17,
   "metadata": {},
   "outputs": [
    {
     "name": "stdout",
     "output_type": "stream",
     "text": [
      "Pushing 4 elements onto the stack.\n",
      "The smallest number in the stack is: -8\n"
     ]
    }
   ],
   "source": [
    "class MinStack:\n",
    "    def __init__(self):\n",
    "        self.main_stack = []\n",
    "        self.min_stack = []\n",
    "\n",
    "    def push(self, value):\n",
    "        self.main_stack.append(value)\n",
    "\n",
    "        if not self.min_stack or value <= self.min_stack[-1]:\n",
    "            self.min_stack.append(value)\n",
    "\n",
    "    def pop(self):\n",
    "        if self.main_stack:\n",
    "            popped = self.main_stack.pop()\n",
    "            if popped == self.min_stack[-1]:\n",
    "                self.min_stack.pop()\n",
    "            return popped\n",
    "        else:\n",
    "            return None\n",
    "\n",
    "    def get_min(self):\n",
    "        if self.min_stack:\n",
    "            return self.min_stack[-1]\n",
    "        else:\n",
    "            return None\n",
    "\n",
    "\n",
    "# Function to fill the stack\n",
    "def fill_stack():\n",
    "    stack = MinStack()\n",
    "    elements = input(\"Enter the elements separated by spaces: \").split()\n",
    "    print(f\"Pushing {len(elements)} elements onto the stack.\")\n",
    "    for element in elements:\n",
    "        stack.push(int(element))\n",
    "    return stack\n",
    "\n",
    "\n",
    "# Example usage\n",
    "stack = fill_stack()\n",
    "\n",
    "smallest = stack.get_min()\n",
    "\n",
    "if smallest is not None:\n",
    "    print(f\"The smallest number in the stack is: {smallest}\")\n",
    "else:\n",
    "    print(\"The stack is empty.\")\n"
   ]
  }
 ],
 "metadata": {
  "kernelspec": {
   "display_name": "Python 3",
   "language": "python",
   "name": "python3"
  },
  "language_info": {
   "codemirror_mode": {
    "name": "ipython",
    "version": 3
   },
   "file_extension": ".py",
   "mimetype": "text/x-python",
   "name": "python",
   "nbconvert_exporter": "python",
   "pygments_lexer": "ipython3",
   "version": "3.11.4"
  }
 },
 "nbformat": 4,
 "nbformat_minor": 2
}
