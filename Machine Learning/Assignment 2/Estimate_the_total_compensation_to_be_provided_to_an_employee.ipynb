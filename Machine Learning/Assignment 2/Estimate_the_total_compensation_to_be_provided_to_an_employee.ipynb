{
 "cells": [
  {
   "cell_type": "markdown",
   "metadata": {},
   "source": [
    "Assignment-2: Problems using Data Preprocessing "
   ]
  },
  {
   "cell_type": "markdown",
   "metadata": {},
   "source": [
    "Estimate the total compensation to be provided to an employee"
   ]
  },
  {
   "cell_type": "markdown",
   "metadata": {},
   "source": [
    "1.IMPORTING THE LIBRARIES"
   ]
  },
  {
   "cell_type": "code",
   "execution_count": 92,
   "metadata": {
    "id": "npzNm35QHRX3"
   },
   "outputs": [],
   "source": [
    "import pandas as pd\n",
    "import numpy as np\n",
    "import seaborn as sns\n",
    "import matplotlib.pyplot as plt\n",
    "import statsmodels.api as sm\n",
    "\n",
    "from sklearn.model_selection import train_test_split\n",
    "from sklearn.linear_model import LinearRegression\n",
    "from sklearn.metrics import mean_squared_error, mean_absolute_error, r2_score\n",
    "from sklearn.impute import SimpleImputer\n",
    "from sklearn.pipeline import make_pipeline\n",
    "from sklearn.preprocessing import StandardScaler\n",
    "from sklearn.compose import make_column_transformer"
   ]
  },
  {
   "cell_type": "code",
   "execution_count": 40,
   "metadata": {
    "colab": {
     "base_uri": "https://localhost:8080/",
     "height": 814
    },
    "id": "1m3kmT4IJcEy",
    "outputId": "4b8de5a4-0006-4ae7-a2b0-c44427b00d1f"
   },
   "outputs": [
    {
     "data": {
      "text/html": [
       "<div>\n",
       "<style scoped>\n",
       "    .dataframe tbody tr th:only-of-type {\n",
       "        vertical-align: middle;\n",
       "    }\n",
       "\n",
       "    .dataframe tbody tr th {\n",
       "        vertical-align: top;\n",
       "    }\n",
       "\n",
       "    .dataframe thead th {\n",
       "        text-align: right;\n",
       "    }\n",
       "</style>\n",
       "<table border=\"1\" class=\"dataframe\">\n",
       "  <thead>\n",
       "    <tr style=\"text-align: right;\">\n",
       "      <th></th>\n",
       "      <th>Year</th>\n",
       "      <th>OGC</th>\n",
       "      <th>OG</th>\n",
       "      <th>DC</th>\n",
       "      <th>Dept</th>\n",
       "      <th>UC</th>\n",
       "      <th>Union</th>\n",
       "      <th>JF</th>\n",
       "      <th>Job</th>\n",
       "      <th>EI</th>\n",
       "      <th>Salaries</th>\n",
       "      <th>Overtime</th>\n",
       "      <th>H/D</th>\n",
       "      <th>YT</th>\n",
       "      <th>Total_Compensation</th>\n",
       "    </tr>\n",
       "  </thead>\n",
       "  <tbody>\n",
       "    <tr>\n",
       "      <th>0</th>\n",
       "      <td>2015</td>\n",
       "      <td>4</td>\n",
       "      <td>Community Health</td>\n",
       "      <td>DPH</td>\n",
       "      <td>Public Health</td>\n",
       "      <td>250</td>\n",
       "      <td>SEIU - Health Workers, Local 1021</td>\n",
       "      <td>Med Therapy &amp; Auxiliary</td>\n",
       "      <td>Morgue Attendant</td>\n",
       "      <td>6725</td>\n",
       "      <td>12196</td>\n",
       "      <td>0</td>\n",
       "      <td>0.00</td>\n",
       "      <td>Calendar</td>\n",
       "      <td>16158</td>\n",
       "    </tr>\n",
       "    <tr>\n",
       "      <th>1</th>\n",
       "      <td>2013</td>\n",
       "      <td>4</td>\n",
       "      <td>Community Health</td>\n",
       "      <td>DPH</td>\n",
       "      <td>Public Health</td>\n",
       "      <td>39</td>\n",
       "      <td>Stationary Engineers, Local 39</td>\n",
       "      <td>Journeyman Trade</td>\n",
       "      <td>Stationary Engineer</td>\n",
       "      <td>25058</td>\n",
       "      <td>74639</td>\n",
       "      <td>2820</td>\n",
       "      <td>12703.31</td>\n",
       "      <td>Fiscal</td>\n",
       "      <td>115784</td>\n",
       "    </tr>\n",
       "    <tr>\n",
       "      <th>2</th>\n",
       "      <td>2015</td>\n",
       "      <td>6</td>\n",
       "      <td>General Administration &amp; Finance</td>\n",
       "      <td>ASR</td>\n",
       "      <td>Assessor/Recorder</td>\n",
       "      <td>21</td>\n",
       "      <td>Prof &amp; Tech Engineers - Miscellaneous, Local 21</td>\n",
       "      <td>Appraisal &amp; Taxation</td>\n",
       "      <td>Senior Real Property Appraiser</td>\n",
       "      <td>46108</td>\n",
       "      <td>100554</td>\n",
       "      <td>0</td>\n",
       "      <td>12424.50</td>\n",
       "      <td>Calendar</td>\n",
       "      <td>144708</td>\n",
       "    </tr>\n",
       "    <tr>\n",
       "      <th>3</th>\n",
       "      <td>2016</td>\n",
       "      <td>1</td>\n",
       "      <td>Public Protection</td>\n",
       "      <td>POL</td>\n",
       "      <td>Police</td>\n",
       "      <td>911</td>\n",
       "      <td>Police Officers' Association</td>\n",
       "      <td>Police Services</td>\n",
       "      <td>Sergeant 3</td>\n",
       "      <td>33369</td>\n",
       "      <td>140164</td>\n",
       "      <td>52754</td>\n",
       "      <td>13043.87</td>\n",
       "      <td>Fiscal</td>\n",
       "      <td>242323</td>\n",
       "    </tr>\n",
       "    <tr>\n",
       "      <th>4</th>\n",
       "      <td>2013</td>\n",
       "      <td>2</td>\n",
       "      <td>Public Works, Transportation &amp; Commerce</td>\n",
       "      <td>HHP</td>\n",
       "      <td>PUC Hetch Hetchy</td>\n",
       "      <td>21</td>\n",
       "      <td>Prof &amp; Tech Engineers - Miscellaneous, Local 21</td>\n",
       "      <td>Information Systems</td>\n",
       "      <td>IS Engineer-Journey</td>\n",
       "      <td>28684</td>\n",
       "      <td>58813</td>\n",
       "      <td>0</td>\n",
       "      <td>7655.28</td>\n",
       "      <td>Calendar</td>\n",
       "      <td>82106</td>\n",
       "    </tr>\n",
       "    <tr>\n",
       "      <th>...</th>\n",
       "      <td>...</td>\n",
       "      <td>...</td>\n",
       "      <td>...</td>\n",
       "      <td>...</td>\n",
       "      <td>...</td>\n",
       "      <td>...</td>\n",
       "      <td>...</td>\n",
       "      <td>...</td>\n",
       "      <td>...</td>\n",
       "      <td>...</td>\n",
       "      <td>...</td>\n",
       "      <td>...</td>\n",
       "      <td>...</td>\n",
       "      <td>...</td>\n",
       "      <td>...</td>\n",
       "    </tr>\n",
       "    <tr>\n",
       "      <th>287831</th>\n",
       "      <td>2016</td>\n",
       "      <td>3</td>\n",
       "      <td>Human Welfare &amp; Neighborhood Development</td>\n",
       "      <td>DSS</td>\n",
       "      <td>Human Services</td>\n",
       "      <td>535</td>\n",
       "      <td>SEIU - Human Services, Local 1021</td>\n",
       "      <td>Human Services</td>\n",
       "      <td>Senior Eligibility Worker</td>\n",
       "      <td>9610</td>\n",
       "      <td>78980</td>\n",
       "      <td>30115</td>\n",
       "      <td>13068.80</td>\n",
       "      <td>Fiscal</td>\n",
       "      <td>147079</td>\n",
       "    </tr>\n",
       "    <tr>\n",
       "      <th>287832</th>\n",
       "      <td>2015</td>\n",
       "      <td>5</td>\n",
       "      <td>Culture &amp; Recreation</td>\n",
       "      <td>LIB</td>\n",
       "      <td>Public Library</td>\n",
       "      <td>790</td>\n",
       "      <td>SEIU - Miscellaneous, Local 1021</td>\n",
       "      <td>Library</td>\n",
       "      <td>Librarian 1</td>\n",
       "      <td>790</td>\n",
       "      <td>30704</td>\n",
       "      <td>0</td>\n",
       "      <td>5465.57</td>\n",
       "      <td>Calendar</td>\n",
       "      <td>40174</td>\n",
       "    </tr>\n",
       "    <tr>\n",
       "      <th>287833</th>\n",
       "      <td>2014</td>\n",
       "      <td>2</td>\n",
       "      <td>Public Works, Transportation &amp; Commerce</td>\n",
       "      <td>HHP</td>\n",
       "      <td>PUC Hetch Hetchy</td>\n",
       "      <td>6</td>\n",
       "      <td>Electrical Workers, Local 6</td>\n",
       "      <td>Journeyman Trade</td>\n",
       "      <td>Electronic Maintenance Tech</td>\n",
       "      <td>38352</td>\n",
       "      <td>104451</td>\n",
       "      <td>0</td>\n",
       "      <td>13054.94</td>\n",
       "      <td>Calendar</td>\n",
       "      <td>164669</td>\n",
       "    </tr>\n",
       "    <tr>\n",
       "      <th>287834</th>\n",
       "      <td>2013</td>\n",
       "      <td>1</td>\n",
       "      <td>Public Protection</td>\n",
       "      <td>JUV</td>\n",
       "      <td>Juvenile Probation</td>\n",
       "      <td>250</td>\n",
       "      <td>SEIU - Health Workers, Local 1021</td>\n",
       "      <td>Housekeeping &amp; Laundry</td>\n",
       "      <td>Porter</td>\n",
       "      <td>29266</td>\n",
       "      <td>14425</td>\n",
       "      <td>0</td>\n",
       "      <td>4051.90</td>\n",
       "      <td>Calendar</td>\n",
       "      <td>19594</td>\n",
       "    </tr>\n",
       "    <tr>\n",
       "      <th>287835</th>\n",
       "      <td>2015</td>\n",
       "      <td>4</td>\n",
       "      <td>Community Health</td>\n",
       "      <td>DPH</td>\n",
       "      <td>Public Health</td>\n",
       "      <td>791</td>\n",
       "      <td>SEIU - Staff and Per Diem Nurses, Local 1021</td>\n",
       "      <td>Nursing</td>\n",
       "      <td>Special Nurse</td>\n",
       "      <td>13906</td>\n",
       "      <td>105561</td>\n",
       "      <td>8945</td>\n",
       "      <td>7993.89</td>\n",
       "      <td>Fiscal</td>\n",
       "      <td>154197</td>\n",
       "    </tr>\n",
       "  </tbody>\n",
       "</table>\n",
       "<p>287836 rows × 15 columns</p>\n",
       "</div>"
      ],
      "text/plain": [
       "        Year  OGC                                        OG   DC  \\\n",
       "0       2015    4                          Community Health  DPH   \n",
       "1       2013    4                          Community Health  DPH   \n",
       "2       2015    6          General Administration & Finance  ASR   \n",
       "3       2016    1                         Public Protection  POL   \n",
       "4       2013    2   Public Works, Transportation & Commerce  HHP   \n",
       "...      ...  ...                                       ...  ...   \n",
       "287831  2016    3  Human Welfare & Neighborhood Development  DSS   \n",
       "287832  2015    5                      Culture & Recreation  LIB   \n",
       "287833  2014    2   Public Works, Transportation & Commerce  HHP   \n",
       "287834  2013    1                         Public Protection  JUV   \n",
       "287835  2015    4                          Community Health  DPH   \n",
       "\n",
       "                      Dept   UC  \\\n",
       "0            Public Health  250   \n",
       "1            Public Health   39   \n",
       "2        Assessor/Recorder   21   \n",
       "3                   Police  911   \n",
       "4         PUC Hetch Hetchy   21   \n",
       "...                    ...  ...   \n",
       "287831      Human Services  535   \n",
       "287832      Public Library  790   \n",
       "287833    PUC Hetch Hetchy    6   \n",
       "287834  Juvenile Probation  250   \n",
       "287835       Public Health  791   \n",
       "\n",
       "                                                  Union  \\\n",
       "0                     SEIU - Health Workers, Local 1021   \n",
       "1                        Stationary Engineers, Local 39   \n",
       "2       Prof & Tech Engineers - Miscellaneous, Local 21   \n",
       "3                          Police Officers' Association   \n",
       "4       Prof & Tech Engineers - Miscellaneous, Local 21   \n",
       "...                                                 ...   \n",
       "287831                SEIU - Human Services, Local 1021   \n",
       "287832                 SEIU - Miscellaneous, Local 1021   \n",
       "287833                      Electrical Workers, Local 6   \n",
       "287834                SEIU - Health Workers, Local 1021   \n",
       "287835     SEIU - Staff and Per Diem Nurses, Local 1021   \n",
       "\n",
       "                             JF                             Job     EI  \\\n",
       "0       Med Therapy & Auxiliary                Morgue Attendant   6725   \n",
       "1              Journeyman Trade             Stationary Engineer  25058   \n",
       "2          Appraisal & Taxation  Senior Real Property Appraiser  46108   \n",
       "3               Police Services                      Sergeant 3  33369   \n",
       "4           Information Systems             IS Engineer-Journey  28684   \n",
       "...                         ...                             ...    ...   \n",
       "287831           Human Services       Senior Eligibility Worker   9610   \n",
       "287832                  Library                     Librarian 1    790   \n",
       "287833         Journeyman Trade     Electronic Maintenance Tech  38352   \n",
       "287834   Housekeeping & Laundry                          Porter  29266   \n",
       "287835                  Nursing                   Special Nurse  13906   \n",
       "\n",
       "        Salaries  Overtime       H/D        YT  Total_Compensation  \n",
       "0          12196         0      0.00  Calendar               16158  \n",
       "1          74639      2820  12703.31    Fiscal              115784  \n",
       "2         100554         0  12424.50  Calendar              144708  \n",
       "3         140164     52754  13043.87    Fiscal              242323  \n",
       "4          58813         0   7655.28  Calendar               82106  \n",
       "...          ...       ...       ...       ...                 ...  \n",
       "287831     78980     30115  13068.80    Fiscal              147079  \n",
       "287832     30704         0   5465.57  Calendar               40174  \n",
       "287833    104451         0  13054.94  Calendar              164669  \n",
       "287834     14425         0   4051.90  Calendar               19594  \n",
       "287835    105561      8945   7993.89    Fiscal              154197  \n",
       "\n",
       "[287836 rows x 15 columns]"
      ]
     },
     "execution_count": 40,
     "metadata": {},
     "output_type": "execute_result"
    }
   ],
   "source": [
    "data = pd.read_csv('train_set.csv')\n",
    "data"
   ]
  },
  {
   "cell_type": "code",
   "execution_count": 42,
   "metadata": {},
   "outputs": [
    {
     "data": {
      "text/plain": [
       "(287836, 15)"
      ]
     },
     "execution_count": 42,
     "metadata": {},
     "output_type": "execute_result"
    }
   ],
   "source": [
    "data.shape"
   ]
  },
  {
   "cell_type": "code",
   "execution_count": 46,
   "metadata": {},
   "outputs": [
    {
     "name": "stdout",
     "output_type": "stream",
     "text": [
      "<class 'pandas.core.frame.DataFrame'>\n",
      "RangeIndex: 287836 entries, 0 to 287835\n",
      "Data columns (total 15 columns):\n",
      " #   Column              Non-Null Count   Dtype  \n",
      "---  ------              --------------   -----  \n",
      " 0   Year                287836 non-null  int64  \n",
      " 1   OGC                 287836 non-null  int64  \n",
      " 2   OG                  287836 non-null  object \n",
      " 3   DC                  287836 non-null  object \n",
      " 4   Dept                287836 non-null  object \n",
      " 5   UC                  287836 non-null  int64  \n",
      " 6   Union               287800 non-null  object \n",
      " 7   JF                  287798 non-null  object \n",
      " 8   Job                 287836 non-null  object \n",
      " 9   EI                  287836 non-null  int64  \n",
      " 10  Salaries            287836 non-null  int64  \n",
      " 11  Overtime            287836 non-null  int64  \n",
      " 12  H/D                 287836 non-null  float64\n",
      " 13  YT                  287836 non-null  object \n",
      " 14  Total_Compensation  287836 non-null  int64  \n",
      "dtypes: float64(1), int64(7), object(7)\n",
      "memory usage: 32.9+ MB\n"
     ]
    }
   ],
   "source": [
    "data.info()"
   ]
  },
  {
   "cell_type": "code",
   "execution_count": 48,
   "metadata": {},
   "outputs": [
    {
     "data": {
      "text/html": [
       "<div>\n",
       "<style scoped>\n",
       "    .dataframe tbody tr th:only-of-type {\n",
       "        vertical-align: middle;\n",
       "    }\n",
       "\n",
       "    .dataframe tbody tr th {\n",
       "        vertical-align: top;\n",
       "    }\n",
       "\n",
       "    .dataframe thead th {\n",
       "        text-align: right;\n",
       "    }\n",
       "</style>\n",
       "<table border=\"1\" class=\"dataframe\">\n",
       "  <thead>\n",
       "    <tr style=\"text-align: right;\">\n",
       "      <th></th>\n",
       "      <th>Year</th>\n",
       "      <th>OGC</th>\n",
       "      <th>UC</th>\n",
       "      <th>EI</th>\n",
       "      <th>Salaries</th>\n",
       "      <th>Overtime</th>\n",
       "      <th>H/D</th>\n",
       "      <th>Total_Compensation</th>\n",
       "    </tr>\n",
       "  </thead>\n",
       "  <tbody>\n",
       "    <tr>\n",
       "      <th>count</th>\n",
       "      <td>287836.000000</td>\n",
       "      <td>287836.000000</td>\n",
       "      <td>287836.000000</td>\n",
       "      <td>287836.000000</td>\n",
       "      <td>287836.000000</td>\n",
       "      <td>287836.000000</td>\n",
       "      <td>287836.000000</td>\n",
       "      <td>287836.000000</td>\n",
       "    </tr>\n",
       "    <tr>\n",
       "      <th>mean</th>\n",
       "      <td>2014.250104</td>\n",
       "      <td>2.976007</td>\n",
       "      <td>490.540186</td>\n",
       "      <td>26913.060020</td>\n",
       "      <td>63262.713139</td>\n",
       "      <td>4401.037115</td>\n",
       "      <td>8932.876472</td>\n",
       "      <td>97990.329882</td>\n",
       "    </tr>\n",
       "    <tr>\n",
       "      <th>std</th>\n",
       "      <td>1.016282</td>\n",
       "      <td>1.575586</td>\n",
       "      <td>333.238723</td>\n",
       "      <td>15539.719696</td>\n",
       "      <td>44638.657748</td>\n",
       "      <td>11079.137749</td>\n",
       "      <td>4894.072024</td>\n",
       "      <td>67750.020573</td>\n",
       "    </tr>\n",
       "    <tr>\n",
       "      <th>min</th>\n",
       "      <td>2013.000000</td>\n",
       "      <td>1.000000</td>\n",
       "      <td>1.000000</td>\n",
       "      <td>1.000000</td>\n",
       "      <td>-68771.000000</td>\n",
       "      <td>-12308.000000</td>\n",
       "      <td>-2940.470000</td>\n",
       "      <td>-74082.000000</td>\n",
       "    </tr>\n",
       "    <tr>\n",
       "      <th>25%</th>\n",
       "      <td>2013.000000</td>\n",
       "      <td>2.000000</td>\n",
       "      <td>236.000000</td>\n",
       "      <td>13434.000000</td>\n",
       "      <td>23406.000000</td>\n",
       "      <td>0.000000</td>\n",
       "      <td>4358.347500</td>\n",
       "      <td>35977.000000</td>\n",
       "    </tr>\n",
       "    <tr>\n",
       "      <th>50%</th>\n",
       "      <td>2014.000000</td>\n",
       "      <td>2.000000</td>\n",
       "      <td>535.000000</td>\n",
       "      <td>27013.000000</td>\n",
       "      <td>62504.500000</td>\n",
       "      <td>0.000000</td>\n",
       "      <td>11982.035000</td>\n",
       "      <td>98033.000000</td>\n",
       "    </tr>\n",
       "    <tr>\n",
       "      <th>75%</th>\n",
       "      <td>2015.000000</td>\n",
       "      <td>4.000000</td>\n",
       "      <td>790.000000</td>\n",
       "      <td>40397.250000</td>\n",
       "      <td>93000.250000</td>\n",
       "      <td>2738.000000</td>\n",
       "      <td>12801.790000</td>\n",
       "      <td>142138.250000</td>\n",
       "    </tr>\n",
       "    <tr>\n",
       "      <th>max</th>\n",
       "      <td>2016.000000</td>\n",
       "      <td>7.000000</td>\n",
       "      <td>990.000000</td>\n",
       "      <td>53794.000000</td>\n",
       "      <td>515101.000000</td>\n",
       "      <td>227313.000000</td>\n",
       "      <td>21872.800000</td>\n",
       "      <td>653498.000000</td>\n",
       "    </tr>\n",
       "  </tbody>\n",
       "</table>\n",
       "</div>"
      ],
      "text/plain": [
       "                Year            OGC             UC             EI  \\\n",
       "count  287836.000000  287836.000000  287836.000000  287836.000000   \n",
       "mean     2014.250104       2.976007     490.540186   26913.060020   \n",
       "std         1.016282       1.575586     333.238723   15539.719696   \n",
       "min      2013.000000       1.000000       1.000000       1.000000   \n",
       "25%      2013.000000       2.000000     236.000000   13434.000000   \n",
       "50%      2014.000000       2.000000     535.000000   27013.000000   \n",
       "75%      2015.000000       4.000000     790.000000   40397.250000   \n",
       "max      2016.000000       7.000000     990.000000   53794.000000   \n",
       "\n",
       "            Salaries       Overtime            H/D  Total_Compensation  \n",
       "count  287836.000000  287836.000000  287836.000000       287836.000000  \n",
       "mean    63262.713139    4401.037115    8932.876472        97990.329882  \n",
       "std     44638.657748   11079.137749    4894.072024        67750.020573  \n",
       "min    -68771.000000  -12308.000000   -2940.470000       -74082.000000  \n",
       "25%     23406.000000       0.000000    4358.347500        35977.000000  \n",
       "50%     62504.500000       0.000000   11982.035000        98033.000000  \n",
       "75%     93000.250000    2738.000000   12801.790000       142138.250000  \n",
       "max    515101.000000  227313.000000   21872.800000       653498.000000  "
      ]
     },
     "execution_count": 48,
     "metadata": {},
     "output_type": "execute_result"
    }
   ],
   "source": [
    "data.describe()"
   ]
  },
  {
   "cell_type": "code",
   "execution_count": 50,
   "metadata": {},
   "outputs": [
    {
     "data": {
      "text/plain": [
       "Index(['Year', 'OGC', 'OG', 'DC', 'Dept', 'UC', 'Union', 'JF', 'Job', 'EI',\n",
       "       'Salaries', 'Overtime', 'H/D', 'YT', 'Total_Compensation'],\n",
       "      dtype='object')"
      ]
     },
     "execution_count": 50,
     "metadata": {},
     "output_type": "execute_result"
    }
   ],
   "source": [
    "data.columns"
   ]
  },
  {
   "cell_type": "code",
   "execution_count": 52,
   "metadata": {},
   "outputs": [],
   "source": [
    "data1 = data.drop(['Year','OGC','OG','DC','Dept','UC','Union','JF','Job','EI','H/D','YT'],axis=1)"
   ]
  },
  {
   "cell_type": "code",
   "execution_count": 54,
   "metadata": {},
   "outputs": [
    {
     "data": {
      "text/plain": [
       "Salaries              0\n",
       "Overtime              0\n",
       "Total_Compensation    0\n",
       "dtype: int64"
      ]
     },
     "execution_count": 54,
     "metadata": {},
     "output_type": "execute_result"
    }
   ],
   "source": [
    "data1.isnull().sum()"
   ]
  },
  {
   "cell_type": "code",
   "execution_count": 64,
   "metadata": {},
   "outputs": [
    {
     "data": {
      "text/plain": [
       "<seaborn.axisgrid.PairGrid at 0x7f761d5dcc10>"
      ]
     },
     "execution_count": 64,
     "metadata": {},
     "output_type": "execute_result"
    },
    {
     "data": {
      "text/plain": [
       "<Figure size 720x360 with 0 Axes>"
      ]
     },
     "metadata": {},
     "output_type": "display_data"
    },
    {
     "data": {
      "image/png": "[encoded data removed]",
      "text/plain": [
       "<Figure size 360x540 with 8 Axes>"
      ]
     },
     "metadata": {
      "needs_background": "light"
     },
     "output_type": "display_data"
    }
   ],
   "source": [
    "plt.figure(figsize=(10,5))\n",
    "sns.pairplot(data1, x_vars = ['Salaries','Overtime'])"
   ]
  },
  {
   "cell_type": "code",
   "execution_count": 66,
   "metadata": {},
   "outputs": [
    {
     "data": {
      "image/png": "[encoded data removed]",
      "text/plain": [
       "<Figure size 432x288 with 2 Axes>"
      ]
     },
     "metadata": {
      "needs_background": "light"
     },
     "output_type": "display_data"
    }
   ],
   "source": [
    "sns.heatmap(data1.corr(), annot = True)\n",
    "plt.show()"
   ]
  },
  {
   "cell_type": "code",
   "execution_count": 94,
   "metadata": {
    "id": "HT4y2F4KJfBT"
   },
   "outputs": [],
   "source": [
    "X = data[['Salaries', 'Overtime', 'H/D']]\n",
    "y = data['Total_Compensation']\n",
    "X_train, X_test, y_train, y_test = train_test_split(X, y, test_size=0.2, random_state=42)"
   ]
  },
  {
   "cell_type": "code",
   "execution_count": 96,
   "metadata": {
    "id": "QWfXtiB0wRay"
   },
   "outputs": [],
   "source": [
    "column_transformer = make_column_transformer(\n",
    "    (SimpleImputer(strategy='mean'), ['Salaries', 'Overtime', 'H/D']),\n",
    "    remainder='passthrough'\n",
    ")"
   ]
  },
  {
   "cell_type": "code",
   "execution_count": 98,
   "metadata": {
    "id": "5qqL-e9uyBEs"
   },
   "outputs": [],
   "source": [
    "model = make_pipeline(column_transformer, StandardScaler(), LinearRegression())"
   ]
  },
  {
   "cell_type": "code",
   "execution_count": 100,
   "metadata": {
    "colab": {
     "base_uri": "https://localhost:8080/",
     "height": 225
    },
    "id": "4gT4WQRmyGNU",
    "outputId": "b19ddf11-198f-479a-b7e8-7a030303c6fc"
   },
   "outputs": [
    {
     "data": {
      "text/plain": [
       "Pipeline(steps=[('columntransformer',\n",
       "                 ColumnTransformer(remainder='passthrough',\n",
       "                                   transformers=[('simpleimputer',\n",
       "                                                  SimpleImputer(),\n",
       "                                                  ['Salaries', 'Overtime',\n",
       "                                                   'H/D'])])),\n",
       "                ('standardscaler', StandardScaler()),\n",
       "                ('linearregression', LinearRegression())])"
      ]
     },
     "execution_count": 100,
     "metadata": {},
     "output_type": "execute_result"
    }
   ],
   "source": [
    "model.fit(X_train, y_train)"
   ]
  },
  {
   "cell_type": "code",
   "execution_count": 102,
   "metadata": {
    "id": "k5WCbitGyKA_"
   },
   "outputs": [],
   "source": [
    "y_pred = model.predict(X_test)"
   ]
  },
  {
   "cell_type": "code",
   "execution_count": 104,
   "metadata": {
    "id": "LtW832DEyNR4"
   },
   "outputs": [],
   "source": [
    "mse = mean_squared_error(y_test, y_pred)\n",
    "mae = mean_absolute_error(y_test, y_pred)\n",
    "r2 = r2_score(y_test, y_pred)"
   ]
  },
  {
   "cell_type": "code",
   "execution_count": 106,
   "metadata": {
    "colab": {
     "base_uri": "https://localhost:8080/"
    },
    "id": "5o3KwlJ2yR7u",
    "outputId": "be6a68f4-e62f-4a47-f073-d77f2bf28f96"
   },
   "outputs": [
    {
     "name": "stdout",
     "output_type": "stream",
     "text": [
      "Mean Squared Error: 58646458.4889762\n",
      "Mean Absolute Error: 4108.185364329771\n",
      "R-squared: 0.9871713964122532\n"
     ]
    }
   ],
   "source": [
    "print(f\"Mean Squared Error: {mse}\")\n",
    "print(f\"Mean Absolute Error: {mae}\")\n",
    "print(f\"R-squared: {r2}\")"
   ]
  },
  {
   "cell_type": "code",
   "execution_count": 108,
   "metadata": {
    "id": "-jsFueLRyVHh"
   },
   "outputs": [],
   "source": [
    "X = data[['Salaries', 'Overtime', 'H/D']]  # Include other relevant features as needed\n",
    "estimated_total_compensation = model.predict(X)"
   ]
  },
  {
   "cell_type": "code",
   "execution_count": 110,
   "metadata": {
    "colab": {
     "base_uri": "https://localhost:8080/",
     "height": 886
    },
    "id": "Y8EnR_oVMzsa",
    "outputId": "fded4954-26ef-4b82-e7df-f6d392eaa151"
   },
   "outputs": [
    {
     "data": {
      "text/html": [
       "<div>\n",
       "<style scoped>\n",
       "    .dataframe tbody tr th:only-of-type {\n",
       "        vertical-align: middle;\n",
       "    }\n",
       "\n",
       "    .dataframe tbody tr th {\n",
       "        vertical-align: top;\n",
       "    }\n",
       "\n",
       "    .dataframe thead th {\n",
       "        text-align: right;\n",
       "    }\n",
       "</style>\n",
       "<table border=\"1\" class=\"dataframe\">\n",
       "  <thead>\n",
       "    <tr style=\"text-align: right;\">\n",
       "      <th></th>\n",
       "      <th>Year</th>\n",
       "      <th>OGC</th>\n",
       "      <th>OG</th>\n",
       "      <th>DC</th>\n",
       "      <th>Dept</th>\n",
       "      <th>UC</th>\n",
       "      <th>Union</th>\n",
       "      <th>JF</th>\n",
       "      <th>Job</th>\n",
       "      <th>EI</th>\n",
       "      <th>Salaries</th>\n",
       "      <th>Overtime</th>\n",
       "      <th>H/D</th>\n",
       "      <th>YT</th>\n",
       "      <th>Total_Compensation</th>\n",
       "      <th>Estimated_Total_Compensation</th>\n",
       "    </tr>\n",
       "  </thead>\n",
       "  <tbody>\n",
       "    <tr>\n",
       "      <th>0</th>\n",
       "      <td>2015</td>\n",
       "      <td>4</td>\n",
       "      <td>Community Health</td>\n",
       "      <td>DPH</td>\n",
       "      <td>Public Health</td>\n",
       "      <td>250</td>\n",
       "      <td>SEIU - Health Workers, Local 1021</td>\n",
       "      <td>Med Therapy &amp; Auxiliary</td>\n",
       "      <td>Morgue Attendant</td>\n",
       "      <td>6725</td>\n",
       "      <td>12196</td>\n",
       "      <td>0</td>\n",
       "      <td>0.00</td>\n",
       "      <td>Calendar</td>\n",
       "      <td>16158</td>\n",
       "      <td>16273.527930</td>\n",
       "    </tr>\n",
       "    <tr>\n",
       "      <th>1</th>\n",
       "      <td>2013</td>\n",
       "      <td>4</td>\n",
       "      <td>Community Health</td>\n",
       "      <td>DPH</td>\n",
       "      <td>Public Health</td>\n",
       "      <td>39</td>\n",
       "      <td>Stationary Engineers, Local 39</td>\n",
       "      <td>Journeyman Trade</td>\n",
       "      <td>Stationary Engineer</td>\n",
       "      <td>25058</td>\n",
       "      <td>74639</td>\n",
       "      <td>2820</td>\n",
       "      <td>12703.31</td>\n",
       "      <td>Fiscal</td>\n",
       "      <td>115784</td>\n",
       "      <td>115143.857758</td>\n",
       "    </tr>\n",
       "    <tr>\n",
       "      <th>2</th>\n",
       "      <td>2015</td>\n",
       "      <td>6</td>\n",
       "      <td>General Administration &amp; Finance</td>\n",
       "      <td>ASR</td>\n",
       "      <td>Assessor/Recorder</td>\n",
       "      <td>21</td>\n",
       "      <td>Prof &amp; Tech Engineers - Miscellaneous, Local 21</td>\n",
       "      <td>Appraisal &amp; Taxation</td>\n",
       "      <td>Senior Real Property Appraiser</td>\n",
       "      <td>46108</td>\n",
       "      <td>100554</td>\n",
       "      <td>0</td>\n",
       "      <td>12424.50</td>\n",
       "      <td>Calendar</td>\n",
       "      <td>144708</td>\n",
       "      <td>145132.271104</td>\n",
       "    </tr>\n",
       "    <tr>\n",
       "      <th>3</th>\n",
       "      <td>2016</td>\n",
       "      <td>1</td>\n",
       "      <td>Public Protection</td>\n",
       "      <td>POL</td>\n",
       "      <td>Police</td>\n",
       "      <td>911</td>\n",
       "      <td>Police Officers' Association</td>\n",
       "      <td>Police Services</td>\n",
       "      <td>Sergeant 3</td>\n",
       "      <td>33369</td>\n",
       "      <td>140164</td>\n",
       "      <td>52754</td>\n",
       "      <td>13043.87</td>\n",
       "      <td>Fiscal</td>\n",
       "      <td>242323</td>\n",
       "      <td>260320.121427</td>\n",
       "    </tr>\n",
       "    <tr>\n",
       "      <th>4</th>\n",
       "      <td>2013</td>\n",
       "      <td>2</td>\n",
       "      <td>Public Works, Transportation &amp; Commerce</td>\n",
       "      <td>HHP</td>\n",
       "      <td>PUC Hetch Hetchy</td>\n",
       "      <td>21</td>\n",
       "      <td>Prof &amp; Tech Engineers - Miscellaneous, Local 21</td>\n",
       "      <td>Information Systems</td>\n",
       "      <td>IS Engineer-Journey</td>\n",
       "      <td>28684</td>\n",
       "      <td>58813</td>\n",
       "      <td>0</td>\n",
       "      <td>7655.28</td>\n",
       "      <td>Calendar</td>\n",
       "      <td>82106</td>\n",
       "      <td>85502.667201</td>\n",
       "    </tr>\n",
       "    <tr>\n",
       "      <th>...</th>\n",
       "      <td>...</td>\n",
       "      <td>...</td>\n",
       "      <td>...</td>\n",
       "      <td>...</td>\n",
       "      <td>...</td>\n",
       "      <td>...</td>\n",
       "      <td>...</td>\n",
       "      <td>...</td>\n",
       "      <td>...</td>\n",
       "      <td>...</td>\n",
       "      <td>...</td>\n",
       "      <td>...</td>\n",
       "      <td>...</td>\n",
       "      <td>...</td>\n",
       "      <td>...</td>\n",
       "      <td>...</td>\n",
       "    </tr>\n",
       "    <tr>\n",
       "      <th>287831</th>\n",
       "      <td>2016</td>\n",
       "      <td>3</td>\n",
       "      <td>Human Welfare &amp; Neighborhood Development</td>\n",
       "      <td>DSS</td>\n",
       "      <td>Human Services</td>\n",
       "      <td>535</td>\n",
       "      <td>SEIU - Human Services, Local 1021</td>\n",
       "      <td>Human Services</td>\n",
       "      <td>Senior Eligibility Worker</td>\n",
       "      <td>9610</td>\n",
       "      <td>78980</td>\n",
       "      <td>30115</td>\n",
       "      <td>13068.80</td>\n",
       "      <td>Fiscal</td>\n",
       "      <td>147079</td>\n",
       "      <td>153804.475690</td>\n",
       "    </tr>\n",
       "    <tr>\n",
       "      <th>287832</th>\n",
       "      <td>2015</td>\n",
       "      <td>5</td>\n",
       "      <td>Culture &amp; Recreation</td>\n",
       "      <td>LIB</td>\n",
       "      <td>Public Library</td>\n",
       "      <td>790</td>\n",
       "      <td>SEIU - Miscellaneous, Local 1021</td>\n",
       "      <td>Library</td>\n",
       "      <td>Librarian 1</td>\n",
       "      <td>790</td>\n",
       "      <td>30704</td>\n",
       "      <td>0</td>\n",
       "      <td>5465.57</td>\n",
       "      <td>Calendar</td>\n",
       "      <td>40174</td>\n",
       "      <td>46502.975728</td>\n",
       "    </tr>\n",
       "    <tr>\n",
       "      <th>287833</th>\n",
       "      <td>2014</td>\n",
       "      <td>2</td>\n",
       "      <td>Public Works, Transportation &amp; Commerce</td>\n",
       "      <td>HHP</td>\n",
       "      <td>PUC Hetch Hetchy</td>\n",
       "      <td>6</td>\n",
       "      <td>Electrical Workers, Local 6</td>\n",
       "      <td>Journeyman Trade</td>\n",
       "      <td>Electronic Maintenance Tech</td>\n",
       "      <td>38352</td>\n",
       "      <td>104451</td>\n",
       "      <td>0</td>\n",
       "      <td>13054.94</td>\n",
       "      <td>Calendar</td>\n",
       "      <td>164669</td>\n",
       "      <td>150908.801048</td>\n",
       "    </tr>\n",
       "    <tr>\n",
       "      <th>287834</th>\n",
       "      <td>2013</td>\n",
       "      <td>1</td>\n",
       "      <td>Public Protection</td>\n",
       "      <td>JUV</td>\n",
       "      <td>Juvenile Probation</td>\n",
       "      <td>250</td>\n",
       "      <td>SEIU - Health Workers, Local 1021</td>\n",
       "      <td>Housekeeping &amp; Laundry</td>\n",
       "      <td>Porter</td>\n",
       "      <td>29266</td>\n",
       "      <td>14425</td>\n",
       "      <td>0</td>\n",
       "      <td>4051.90</td>\n",
       "      <td>Calendar</td>\n",
       "      <td>19594</td>\n",
       "      <td>23752.180152</td>\n",
       "    </tr>\n",
       "    <tr>\n",
       "      <th>287835</th>\n",
       "      <td>2015</td>\n",
       "      <td>4</td>\n",
       "      <td>Community Health</td>\n",
       "      <td>DPH</td>\n",
       "      <td>Public Health</td>\n",
       "      <td>791</td>\n",
       "      <td>SEIU - Staff and Per Diem Nurses, Local 1021</td>\n",
       "      <td>Nursing</td>\n",
       "      <td>Special Nurse</td>\n",
       "      <td>13906</td>\n",
       "      <td>105561</td>\n",
       "      <td>8945</td>\n",
       "      <td>7993.89</td>\n",
       "      <td>Fiscal</td>\n",
       "      <td>154197</td>\n",
       "      <td>157313.150267</td>\n",
       "    </tr>\n",
       "  </tbody>\n",
       "</table>\n",
       "<p>287836 rows × 16 columns</p>\n",
       "</div>"
      ],
      "text/plain": [
       "        Year  OGC                                        OG   DC  \\\n",
       "0       2015    4                          Community Health  DPH   \n",
       "1       2013    4                          Community Health  DPH   \n",
       "2       2015    6          General Administration & Finance  ASR   \n",
       "3       2016    1                         Public Protection  POL   \n",
       "4       2013    2   Public Works, Transportation & Commerce  HHP   \n",
       "...      ...  ...                                       ...  ...   \n",
       "287831  2016    3  Human Welfare & Neighborhood Development  DSS   \n",
       "287832  2015    5                      Culture & Recreation  LIB   \n",
       "287833  2014    2   Public Works, Transportation & Commerce  HHP   \n",
       "287834  2013    1                         Public Protection  JUV   \n",
       "287835  2015    4                          Community Health  DPH   \n",
       "\n",
       "                      Dept   UC  \\\n",
       "0            Public Health  250   \n",
       "1            Public Health   39   \n",
       "2        Assessor/Recorder   21   \n",
       "3                   Police  911   \n",
       "4         PUC Hetch Hetchy   21   \n",
       "...                    ...  ...   \n",
       "287831      Human Services  535   \n",
       "287832      Public Library  790   \n",
       "287833    PUC Hetch Hetchy    6   \n",
       "287834  Juvenile Probation  250   \n",
       "287835       Public Health  791   \n",
       "\n",
       "                                                  Union  \\\n",
       "0                     SEIU - Health Workers, Local 1021   \n",
       "1                        Stationary Engineers, Local 39   \n",
       "2       Prof & Tech Engineers - Miscellaneous, Local 21   \n",
       "3                          Police Officers' Association   \n",
       "4       Prof & Tech Engineers - Miscellaneous, Local 21   \n",
       "...                                                 ...   \n",
       "287831                SEIU - Human Services, Local 1021   \n",
       "287832                 SEIU - Miscellaneous, Local 1021   \n",
       "287833                      Electrical Workers, Local 6   \n",
       "287834                SEIU - Health Workers, Local 1021   \n",
       "287835     SEIU - Staff and Per Diem Nurses, Local 1021   \n",
       "\n",
       "                             JF                             Job     EI  \\\n",
       "0       Med Therapy & Auxiliary                Morgue Attendant   6725   \n",
       "1              Journeyman Trade             Stationary Engineer  25058   \n",
       "2          Appraisal & Taxation  Senior Real Property Appraiser  46108   \n",
       "3               Police Services                      Sergeant 3  33369   \n",
       "4           Information Systems             IS Engineer-Journey  28684   \n",
       "...                         ...                             ...    ...   \n",
       "287831           Human Services       Senior Eligibility Worker   9610   \n",
       "287832                  Library                     Librarian 1    790   \n",
       "287833         Journeyman Trade     Electronic Maintenance Tech  38352   \n",
       "287834   Housekeeping & Laundry                          Porter  29266   \n",
       "287835                  Nursing                   Special Nurse  13906   \n",
       "\n",
       "        Salaries  Overtime       H/D        YT  Total_Compensation  \\\n",
       "0          12196         0      0.00  Calendar               16158   \n",
       "1          74639      2820  12703.31    Fiscal              115784   \n",
       "2         100554         0  12424.50  Calendar              144708   \n",
       "3         140164     52754  13043.87    Fiscal              242323   \n",
       "4          58813         0   7655.28  Calendar               82106   \n",
       "...          ...       ...       ...       ...                 ...   \n",
       "287831     78980     30115  13068.80    Fiscal              147079   \n",
       "287832     30704         0   5465.57  Calendar               40174   \n",
       "287833    104451         0  13054.94  Calendar              164669   \n",
       "287834     14425         0   4051.90  Calendar               19594   \n",
       "287835    105561      8945   7993.89    Fiscal              154197   \n",
       "\n",
       "        Estimated_Total_Compensation  \n",
       "0                       16273.527930  \n",
       "1                      115143.857758  \n",
       "2                      145132.271104  \n",
       "3                      260320.121427  \n",
       "4                       85502.667201  \n",
       "...                              ...  \n",
       "287831                 153804.475690  \n",
       "287832                  46502.975728  \n",
       "287833                 150908.801048  \n",
       "287834                  23752.180152  \n",
       "287835                 157313.150267  \n",
       "\n",
       "[287836 rows x 16 columns]"
      ]
     },
     "execution_count": 110,
     "metadata": {},
     "output_type": "execute_result"
    }
   ],
   "source": [
    "data['Estimated_Total_Compensation'] = estimated_total_compensation\n",
    "data"
   ]
  },
  {
   "cell_type": "code",
   "execution_count": 112,
   "metadata": {},
   "outputs": [],
   "source": [
    "X1 = data1.drop('Total_Compensation', axis = 1)\n",
    "Y1 = data1['Total_Compensation']\n",
    "X1_train, X1_test, Y1_train, Y1_test = train_test_split(X1, Y1, test_size = 0.3, random_state =10)"
   ]
  },
  {
   "cell_type": "code",
   "execution_count": 114,
   "metadata": {},
   "outputs": [],
   "source": [
    "lr = LinearRegression()"
   ]
  },
  {
   "cell_type": "code",
   "execution_count": 116,
   "metadata": {},
   "outputs": [],
   "source": [
    "X1_train_sm = sm.add_constant(X1_train)\n",
    "lr = sm.OLS(Y1_train, X1_train_sm).fit()"
   ]
  },
  {
   "cell_type": "code",
   "execution_count": 118,
   "metadata": {},
   "outputs": [
    {
     "data": {
      "text/html": [
       "<table class=\"simpletable\">\n",
       "<caption>OLS Regression Results</caption>\n",
       "<tr>\n",
       "  <th>Dep. Variable:</th>    <td>Total_Compensation</td> <th>  R-squared:         </th>  <td>   0.984</td>  \n",
       "</tr>\n",
       "<tr>\n",
       "  <th>Model:</th>                    <td>OLS</td>        <th>  Adj. R-squared:    </th>  <td>   0.984</td>  \n",
       "</tr>\n",
       "<tr>\n",
       "  <th>Method:</th>              <td>Least Squares</td>   <th>  F-statistic:       </th>  <td>6.383e+06</td> \n",
       "</tr>\n",
       "<tr>\n",
       "  <th>Date:</th>              <td>Tue, 23 Jan 2024</td>  <th>  Prob (F-statistic):</th>   <td>  0.00</td>   \n",
       "</tr>\n",
       "<tr>\n",
       "  <th>Time:</th>                  <td>15:41:31</td>      <th>  Log-Likelihood:    </th> <td>-2.1076e+06</td>\n",
       "</tr>\n",
       "<tr>\n",
       "  <th>No. Observations:</th>       <td>201485</td>       <th>  AIC:               </th>  <td>4.215e+06</td> \n",
       "</tr>\n",
       "<tr>\n",
       "  <th>Df Residuals:</th>           <td>201482</td>       <th>  BIC:               </th>  <td>4.215e+06</td> \n",
       "</tr>\n",
       "<tr>\n",
       "  <th>Df Model:</th>               <td>     2</td>       <th>                     </th>      <td> </td>     \n",
       "</tr>\n",
       "<tr>\n",
       "  <th>Covariance Type:</th>       <td>nonrobust</td>     <th>                     </th>      <td> </td>     \n",
       "</tr>\n",
       "</table>\n",
       "<table class=\"simpletable\">\n",
       "<tr>\n",
       "      <td></td>        <th>coef</th>     <th>std err</th>      <th>t</th>      <th>P>|t|</th>  <th>[0.025</th>    <th>0.975]</th>  \n",
       "</tr>\n",
       "<tr>\n",
       "  <th>const</th>    <td> 4418.2189</td> <td>   32.647</td> <td>  135.332</td> <td> 0.000</td> <td> 4354.231</td> <td> 4482.207</td>\n",
       "</tr>\n",
       "<tr>\n",
       "  <th>Salaries</th> <td>    1.3923</td> <td>    0.000</td> <td> 3175.188</td> <td> 0.000</td> <td>    1.391</td> <td>    1.393</td>\n",
       "</tr>\n",
       "<tr>\n",
       "  <th>Overtime</th> <td>    1.2484</td> <td>    0.002</td> <td>  709.784</td> <td> 0.000</td> <td>    1.245</td> <td>    1.252</td>\n",
       "</tr>\n",
       "</table>\n",
       "<table class=\"simpletable\">\n",
       "<tr>\n",
       "  <th>Omnibus:</th>       <td>198680.539</td> <th>  Durbin-Watson:     </th>   <td>   1.992</td>  \n",
       "</tr>\n",
       "<tr>\n",
       "  <th>Prob(Omnibus):</th>   <td> 0.000</td>   <th>  Jarque-Bera (JB):  </th> <td>47341356.064</td>\n",
       "</tr>\n",
       "<tr>\n",
       "  <th>Skew:</th>            <td> 4.301</td>   <th>  Prob(JB):          </th>   <td>    0.00</td>  \n",
       "</tr>\n",
       "<tr>\n",
       "  <th>Kurtosis:</th>        <td>77.600</td>   <th>  Cond. No.          </th>   <td>1.35e+05</td>  \n",
       "</tr>\n",
       "</table><br/><br/>Notes:<br/>[1] Standard Errors assume that the covariance matrix of the errors is correctly specified.<br/>[2] The condition number is large, 1.35e+05. This might indicate that there are<br/>strong multicollinearity or other numerical problems."
      ],
      "text/plain": [
       "<class 'statsmodels.iolib.summary.Summary'>\n",
       "\"\"\"\n",
       "                            OLS Regression Results                            \n",
       "==============================================================================\n",
       "Dep. Variable:     Total_Compensation   R-squared:                       0.984\n",
       "Model:                            OLS   Adj. R-squared:                  0.984\n",
       "Method:                 Least Squares   F-statistic:                 6.383e+06\n",
       "Date:                Tue, 23 Jan 2024   Prob (F-statistic):               0.00\n",
       "Time:                        15:41:31   Log-Likelihood:            -2.1076e+06\n",
       "No. Observations:              201485   AIC:                         4.215e+06\n",
       "Df Residuals:                  201482   BIC:                         4.215e+06\n",
       "Df Model:                           2                                         \n",
       "Covariance Type:            nonrobust                                         \n",
       "==============================================================================\n",
       "                 coef    std err          t      P>|t|      [0.025      0.975]\n",
       "------------------------------------------------------------------------------\n",
       "const       4418.2189     32.647    135.332      0.000    4354.231    4482.207\n",
       "Salaries       1.3923      0.000   3175.188      0.000       1.391       1.393\n",
       "Overtime       1.2484      0.002    709.784      0.000       1.245       1.252\n",
       "==============================================================================\n",
       "Omnibus:                   198680.539   Durbin-Watson:                   1.992\n",
       "Prob(Omnibus):                  0.000   Jarque-Bera (JB):         47341356.064\n",
       "Skew:                           4.301   Prob(JB):                         0.00\n",
       "Kurtosis:                      77.600   Cond. No.                     1.35e+05\n",
       "==============================================================================\n",
       "\n",
       "Notes:\n",
       "[1] Standard Errors assume that the covariance matrix of the errors is correctly specified.\n",
       "[2] The condition number is large, 1.35e+05. This might indicate that there are\n",
       "strong multicollinearity or other numerical problems.\n",
       "\"\"\""
      ]
     },
     "execution_count": 118,
     "metadata": {},
     "output_type": "execute_result"
    }
   ],
   "source": [
    "lr.summary()"
   ]
  },
  {
   "cell_type": "code",
   "execution_count": 120,
   "metadata": {},
   "outputs": [
    {
     "data": {
      "text/plain": [
       "const       4418.218949\n",
       "Salaries       1.392334\n",
       "Overtime       1.248357\n",
       "dtype: float64"
      ]
     },
     "execution_count": 120,
     "metadata": {},
     "output_type": "execute_result"
    }
   ],
   "source": [
    "lr.params"
   ]
  },
  {
   "cell_type": "code",
   "execution_count": 148,
   "metadata": {},
   "outputs": [
    {
     "data": {
      "image/png": "[encoded data removed]",
      "text/plain": [
       "<Figure size 432x288 with 1 Axes>"
      ]
     },
     "metadata": {
      "needs_background": "light"
     },
     "output_type": "display_data"
    }
   ],
   "source": [
    "X1_train_1=X1_train.iloc[:,0]\n",
    "plt.scatter(X1_train_1, Y1_train)\n",
    "plt.plot(X1_train_1, 4418.218949 + 1.392334*X1_train_1, 'r')\n",
    "plt.show()"
   ]
  },
  {
   "cell_type": "code",
   "execution_count": 136,
   "metadata": {},
   "outputs": [
    {
     "data": {
      "image/png": "[encoded data removed]",
      "text/plain": [
       "<Figure size 432x288 with 1 Axes>"
      ]
     },
     "metadata": {
      "needs_background": "light"
     },
     "output_type": "display_data"
    }
   ],
   "source": [
    "X1_train_2=X1_train.iloc[:,-1]\n",
    "plt.scatter(X1_train_2, Y1_train)\n",
    "plt.plot(X1_train_2, 4418.218949 + 1.248357*X1_train_2, 'r')\n",
    "plt.show()"
   ]
  },
  {
   "cell_type": "code",
   "execution_count": null,
   "metadata": {},
   "outputs": [],
   "source": []
  }
 ],
 "metadata": {
  "colab": {
   "provenance": []
  },
  "kernelspec": {
   "display_name": "anaconda-2022.05-py39",
   "language": "python",
   "name": "conda-env-anaconda-2022.05-py39-py"
  },
  "language_info": {
   "codemirror_mode": {
    "name": "ipython",
    "version": 3
   },
   "file_extension": ".py",
   "mimetype": "text/x-python",
   "name": "python",
   "nbconvert_exporter": "python",
   "pygments_lexer": "ipython3",
   "version": "3.9.12"
  }
 },
 "nbformat": 4,
 "nbformat_minor": 4
}
