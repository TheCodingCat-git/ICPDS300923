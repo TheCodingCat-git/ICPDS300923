{
 "cells": [
  {
   "cell_type": "markdown",
   "id": "7494a29c-a9f7-445d-910c-d4eab48a0869",
   "metadata": {},
   "source": [
    "# Predict the price of an Airbnb listing"
   ]
  },
  {
   "cell_type": "code",
   "execution_count": 62,
   "id": "d0616f59",
   "metadata": {},
   "outputs": [],
   "source": [
    "# Importing Necessary Libraries\n",
    "import pandas as pd\n",
    "import numpy as np\n",
    "import matplotlib.pyplot as plt\n",
    "import seaborn as sns\n",
    "import warnings\n",
    "warnings.filterwarnings('ignore')\n",
    "\n",
    "from sklearn.preprocessing import StandardScaler\n",
    "from sklearn.model_selection import train_test_split\n",
    "from sklearn.linear_model import LinearRegression \n",
    "from sklearn.metrics import r2_score\n",
    "from sklearn.neighbors import KNeighborsRegressor"
   ]
  },
  {
   "cell_type": "code",
   "execution_count": 6,
   "id": "5ce8b7cf",
   "metadata": {},
   "outputs": [
    {
     "data": {
      "text/html": [
       "<div>\n",
       "<style scoped>\n",
       "    .dataframe tbody tr th:only-of-type {\n",
       "        vertical-align: middle;\n",
       "    }\n",
       "\n",
       "    .dataframe tbody tr th {\n",
       "        vertical-align: top;\n",
       "    }\n",
       "\n",
       "    .dataframe thead th {\n",
       "        text-align: right;\n",
       "    }\n",
       "</style>\n",
       "<table border=\"1\" class=\"dataframe\">\n",
       "  <thead>\n",
       "    <tr style=\"text-align: right;\">\n",
       "      <th></th>\n",
       "      <th>id</th>\n",
       "      <th>name</th>\n",
       "      <th>host_id</th>\n",
       "      <th>host_name</th>\n",
       "      <th>neighbourhood_group</th>\n",
       "      <th>neighbourhood</th>\n",
       "      <th>latitude</th>\n",
       "      <th>longitude</th>\n",
       "      <th>room_type</th>\n",
       "      <th>minimum_nights</th>\n",
       "      <th>number_of_reviews</th>\n",
       "      <th>last_review</th>\n",
       "      <th>reviews_per_month</th>\n",
       "      <th>calculated_host_listings_count</th>\n",
       "      <th>availability_365</th>\n",
       "      <th>price</th>\n",
       "    </tr>\n",
       "  </thead>\n",
       "  <tbody>\n",
       "    <tr>\n",
       "      <th>0</th>\n",
       "      <td>11602914</td>\n",
       "      <td>Luxury home 100m2+garden in center!</td>\n",
       "      <td>3123809</td>\n",
       "      <td>Marjolein</td>\n",
       "      <td>NaN</td>\n",
       "      <td>De Pijp - Rivierenbuurt</td>\n",
       "      <td>52.35368</td>\n",
       "      <td>4.90177</td>\n",
       "      <td>Entire home/apt</td>\n",
       "      <td>3</td>\n",
       "      <td>13</td>\n",
       "      <td>15-02-2020</td>\n",
       "      <td>0.27</td>\n",
       "      <td>1</td>\n",
       "      <td>0</td>\n",
       "      <td>220</td>\n",
       "    </tr>\n",
       "    <tr>\n",
       "      <th>1</th>\n",
       "      <td>13289321</td>\n",
       "      <td>East is where your home is!</td>\n",
       "      <td>10259430</td>\n",
       "      <td>Ana</td>\n",
       "      <td>NaN</td>\n",
       "      <td>Oud-Oost</td>\n",
       "      <td>52.35728</td>\n",
       "      <td>4.92052</td>\n",
       "      <td>Entire home/apt</td>\n",
       "      <td>4</td>\n",
       "      <td>14</td>\n",
       "      <td>19-06-2019</td>\n",
       "      <td>0.29</td>\n",
       "      <td>1</td>\n",
       "      <td>0</td>\n",
       "      <td>110</td>\n",
       "    </tr>\n",
       "    <tr>\n",
       "      <th>2</th>\n",
       "      <td>40779315</td>\n",
       "      <td>Amsterdam Central - LUXURY house in BUSY STREET</td>\n",
       "      <td>224969266</td>\n",
       "      <td>Mark</td>\n",
       "      <td>NaN</td>\n",
       "      <td>Centrum-West</td>\n",
       "      <td>52.37582</td>\n",
       "      <td>4.89850</td>\n",
       "      <td>Entire home/apt</td>\n",
       "      <td>2</td>\n",
       "      <td>9</td>\n",
       "      <td>16-03-2020</td>\n",
       "      <td>1.65</td>\n",
       "      <td>1</td>\n",
       "      <td>7</td>\n",
       "      <td>100</td>\n",
       "    </tr>\n",
       "    <tr>\n",
       "      <th>3</th>\n",
       "      <td>7820311</td>\n",
       "      <td>great appartment down town</td>\n",
       "      <td>693472</td>\n",
       "      <td>Ayden</td>\n",
       "      <td>NaN</td>\n",
       "      <td>Westerpark</td>\n",
       "      <td>52.37792</td>\n",
       "      <td>4.87300</td>\n",
       "      <td>Entire home/apt</td>\n",
       "      <td>3</td>\n",
       "      <td>42</td>\n",
       "      <td>17-02-2020</td>\n",
       "      <td>0.72</td>\n",
       "      <td>1</td>\n",
       "      <td>0</td>\n",
       "      <td>130</td>\n",
       "    </tr>\n",
       "    <tr>\n",
       "      <th>4</th>\n",
       "      <td>27346603</td>\n",
       "      <td>Private room with canal view in peaceful area</td>\n",
       "      <td>41888346</td>\n",
       "      <td>Alissa</td>\n",
       "      <td>NaN</td>\n",
       "      <td>Westerpark</td>\n",
       "      <td>52.38051</td>\n",
       "      <td>4.87493</td>\n",
       "      <td>Private room</td>\n",
       "      <td>2</td>\n",
       "      <td>89</td>\n",
       "      <td>26-02-2020</td>\n",
       "      <td>4.02</td>\n",
       "      <td>1</td>\n",
       "      <td>24</td>\n",
       "      <td>90</td>\n",
       "    </tr>\n",
       "  </tbody>\n",
       "</table>\n",
       "</div>"
      ],
      "text/plain": [
       "         id                                             name    host_id  \\\n",
       "0  11602914              Luxury home 100m2+garden in center!    3123809   \n",
       "1  13289321                      East is where your home is!   10259430   \n",
       "2  40779315  Amsterdam Central - LUXURY house in BUSY STREET  224969266   \n",
       "3   7820311                       great appartment down town     693472   \n",
       "4  27346603    Private room with canal view in peaceful area   41888346   \n",
       "\n",
       "   host_name  neighbourhood_group            neighbourhood  latitude  \\\n",
       "0  Marjolein                  NaN  De Pijp - Rivierenbuurt  52.35368   \n",
       "1        Ana                  NaN                 Oud-Oost  52.35728   \n",
       "2       Mark                  NaN             Centrum-West  52.37582   \n",
       "3      Ayden                  NaN               Westerpark  52.37792   \n",
       "4     Alissa                  NaN               Westerpark  52.38051   \n",
       "\n",
       "   longitude        room_type  minimum_nights  number_of_reviews last_review  \\\n",
       "0    4.90177  Entire home/apt               3                 13  15-02-2020   \n",
       "1    4.92052  Entire home/apt               4                 14  19-06-2019   \n",
       "2    4.89850  Entire home/apt               2                  9  16-03-2020   \n",
       "3    4.87300  Entire home/apt               3                 42  17-02-2020   \n",
       "4    4.87493     Private room               2                 89  26-02-2020   \n",
       "\n",
       "   reviews_per_month  calculated_host_listings_count  availability_365  price  \n",
       "0               0.27                               1                 0    220  \n",
       "1               0.29                               1                 0    110  \n",
       "2               1.65                               1                 7    100  \n",
       "3               0.72                               1                 0    130  \n",
       "4               4.02                               1                24     90  "
      ]
     },
     "execution_count": 6,
     "metadata": {},
     "output_type": "execute_result"
    }
   ],
   "source": [
    "# Load the data\n",
    "# https://www.kaggle.com/c/dphi-amsterdam-airbnb-data/data\n",
    "airbnb_lst_data = pd.read_csv('Airbnb_Listing_Train.csv')\n",
    "airbnb_lst_data.head()"
   ]
  },
  {
   "cell_type": "code",
   "execution_count": 8,
   "id": "4b1e202a",
   "metadata": {},
   "outputs": [
    {
     "data": {
      "text/plain": [
       "(12901, 16)"
      ]
     },
     "execution_count": 8,
     "metadata": {},
     "output_type": "execute_result"
    }
   ],
   "source": [
    "airbnb_lst_data.shape"
   ]
  },
  {
   "cell_type": "code",
   "execution_count": 10,
   "id": "59b22719",
   "metadata": {},
   "outputs": [
    {
     "data": {
      "text/plain": [
       "Index(['id', 'name', 'host_id', 'host_name', 'neighbourhood_group',\n",
       "       'neighbourhood', 'latitude', 'longitude', 'room_type', 'minimum_nights',\n",
       "       'number_of_reviews', 'last_review', 'reviews_per_month',\n",
       "       'calculated_host_listings_count', 'availability_365', 'price'],\n",
       "      dtype='object')"
      ]
     },
     "execution_count": 10,
     "metadata": {},
     "output_type": "execute_result"
    }
   ],
   "source": [
    "airbnb_lst_data.columns"
   ]
  },
  {
   "cell_type": "markdown",
   "id": "b47f8912",
   "metadata": {},
   "source": [
    "# Data Cleaning, Data Wrangling, Data Preprocessing"
   ]
  },
  {
   "cell_type": "code",
   "execution_count": 13,
   "id": "99490213",
   "metadata": {},
   "outputs": [
    {
     "data": {
      "text/plain": [
       "id                                    0\n",
       "name                                 22\n",
       "host_id                               0\n",
       "host_name                             8\n",
       "neighbourhood_group               12901\n",
       "neighbourhood                         0\n",
       "latitude                              0\n",
       "longitude                             0\n",
       "room_type                             0\n",
       "minimum_nights                        0\n",
       "number_of_reviews                     0\n",
       "last_review                        1596\n",
       "reviews_per_month                  1596\n",
       "calculated_host_listings_count        0\n",
       "availability_365                      0\n",
       "price                                 0\n",
       "dtype: int64"
      ]
     },
     "execution_count": 13,
     "metadata": {},
     "output_type": "execute_result"
    }
   ],
   "source": [
    "airbnb_lst_data.isnull().sum()"
   ]
  },
  {
   "cell_type": "code",
   "execution_count": 15,
   "id": "109dd6d9",
   "metadata": {},
   "outputs": [
    {
     "data": {
      "text/plain": [
       "id                                  0.000000\n",
       "name                                0.170529\n",
       "host_id                             0.000000\n",
       "host_name                           0.062011\n",
       "neighbourhood_group               100.000000\n",
       "neighbourhood                       0.000000\n",
       "latitude                            0.000000\n",
       "longitude                           0.000000\n",
       "room_type                           0.000000\n",
       "minimum_nights                      0.000000\n",
       "number_of_reviews                   0.000000\n",
       "last_review                        12.371134\n",
       "reviews_per_month                  12.371134\n",
       "calculated_host_listings_count      0.000000\n",
       "availability_365                    0.000000\n",
       "price                               0.000000\n",
       "dtype: float64"
      ]
     },
     "execution_count": 15,
     "metadata": {},
     "output_type": "execute_result"
    }
   ],
   "source": [
    "airbnb_lst_data.isnull().sum()/len(airbnb_lst_data)*100"
   ]
  },
  {
   "cell_type": "code",
   "execution_count": 17,
   "id": "b6c0d0c4",
   "metadata": {},
   "outputs": [
    {
     "data": {
      "text/html": [
       "<div>\n",
       "<style scoped>\n",
       "    .dataframe tbody tr th:only-of-type {\n",
       "        vertical-align: middle;\n",
       "    }\n",
       "\n",
       "    .dataframe tbody tr th {\n",
       "        vertical-align: top;\n",
       "    }\n",
       "\n",
       "    .dataframe thead th {\n",
       "        text-align: right;\n",
       "    }\n",
       "</style>\n",
       "<table border=\"1\" class=\"dataframe\">\n",
       "  <thead>\n",
       "    <tr style=\"text-align: right;\">\n",
       "      <th></th>\n",
       "      <th>id</th>\n",
       "      <th>name</th>\n",
       "      <th>host_id</th>\n",
       "      <th>host_name</th>\n",
       "      <th>neighbourhood</th>\n",
       "      <th>latitude</th>\n",
       "      <th>longitude</th>\n",
       "      <th>room_type</th>\n",
       "      <th>minimum_nights</th>\n",
       "      <th>number_of_reviews</th>\n",
       "      <th>last_review</th>\n",
       "      <th>reviews_per_month</th>\n",
       "      <th>calculated_host_listings_count</th>\n",
       "      <th>availability_365</th>\n",
       "      <th>price</th>\n",
       "    </tr>\n",
       "  </thead>\n",
       "  <tbody>\n",
       "    <tr>\n",
       "      <th>0</th>\n",
       "      <td>11602914</td>\n",
       "      <td>Luxury home 100m2+garden in center!</td>\n",
       "      <td>3123809</td>\n",
       "      <td>Marjolein</td>\n",
       "      <td>De Pijp - Rivierenbuurt</td>\n",
       "      <td>52.35368</td>\n",
       "      <td>4.90177</td>\n",
       "      <td>Entire home/apt</td>\n",
       "      <td>3</td>\n",
       "      <td>13</td>\n",
       "      <td>15-02-2020</td>\n",
       "      <td>0.27</td>\n",
       "      <td>1</td>\n",
       "      <td>0</td>\n",
       "      <td>220</td>\n",
       "    </tr>\n",
       "    <tr>\n",
       "      <th>1</th>\n",
       "      <td>13289321</td>\n",
       "      <td>East is where your home is!</td>\n",
       "      <td>10259430</td>\n",
       "      <td>Ana</td>\n",
       "      <td>Oud-Oost</td>\n",
       "      <td>52.35728</td>\n",
       "      <td>4.92052</td>\n",
       "      <td>Entire home/apt</td>\n",
       "      <td>4</td>\n",
       "      <td>14</td>\n",
       "      <td>19-06-2019</td>\n",
       "      <td>0.29</td>\n",
       "      <td>1</td>\n",
       "      <td>0</td>\n",
       "      <td>110</td>\n",
       "    </tr>\n",
       "    <tr>\n",
       "      <th>2</th>\n",
       "      <td>40779315</td>\n",
       "      <td>Amsterdam Central - LUXURY house in BUSY STREET</td>\n",
       "      <td>224969266</td>\n",
       "      <td>Mark</td>\n",
       "      <td>Centrum-West</td>\n",
       "      <td>52.37582</td>\n",
       "      <td>4.89850</td>\n",
       "      <td>Entire home/apt</td>\n",
       "      <td>2</td>\n",
       "      <td>9</td>\n",
       "      <td>16-03-2020</td>\n",
       "      <td>1.65</td>\n",
       "      <td>1</td>\n",
       "      <td>7</td>\n",
       "      <td>100</td>\n",
       "    </tr>\n",
       "    <tr>\n",
       "      <th>3</th>\n",
       "      <td>7820311</td>\n",
       "      <td>great appartment down town</td>\n",
       "      <td>693472</td>\n",
       "      <td>Ayden</td>\n",
       "      <td>Westerpark</td>\n",
       "      <td>52.37792</td>\n",
       "      <td>4.87300</td>\n",
       "      <td>Entire home/apt</td>\n",
       "      <td>3</td>\n",
       "      <td>42</td>\n",
       "      <td>17-02-2020</td>\n",
       "      <td>0.72</td>\n",
       "      <td>1</td>\n",
       "      <td>0</td>\n",
       "      <td>130</td>\n",
       "    </tr>\n",
       "    <tr>\n",
       "      <th>4</th>\n",
       "      <td>27346603</td>\n",
       "      <td>Private room with canal view in peaceful area</td>\n",
       "      <td>41888346</td>\n",
       "      <td>Alissa</td>\n",
       "      <td>Westerpark</td>\n",
       "      <td>52.38051</td>\n",
       "      <td>4.87493</td>\n",
       "      <td>Private room</td>\n",
       "      <td>2</td>\n",
       "      <td>89</td>\n",
       "      <td>26-02-2020</td>\n",
       "      <td>4.02</td>\n",
       "      <td>1</td>\n",
       "      <td>24</td>\n",
       "      <td>90</td>\n",
       "    </tr>\n",
       "  </tbody>\n",
       "</table>\n",
       "</div>"
      ],
      "text/plain": [
       "         id                                             name    host_id  \\\n",
       "0  11602914              Luxury home 100m2+garden in center!    3123809   \n",
       "1  13289321                      East is where your home is!   10259430   \n",
       "2  40779315  Amsterdam Central - LUXURY house in BUSY STREET  224969266   \n",
       "3   7820311                       great appartment down town     693472   \n",
       "4  27346603    Private room with canal view in peaceful area   41888346   \n",
       "\n",
       "   host_name            neighbourhood  latitude  longitude        room_type  \\\n",
       "0  Marjolein  De Pijp - Rivierenbuurt  52.35368    4.90177  Entire home/apt   \n",
       "1        Ana                 Oud-Oost  52.35728    4.92052  Entire home/apt   \n",
       "2       Mark             Centrum-West  52.37582    4.89850  Entire home/apt   \n",
       "3      Ayden               Westerpark  52.37792    4.87300  Entire home/apt   \n",
       "4     Alissa               Westerpark  52.38051    4.87493     Private room   \n",
       "\n",
       "   minimum_nights  number_of_reviews last_review  reviews_per_month  \\\n",
       "0               3                 13  15-02-2020               0.27   \n",
       "1               4                 14  19-06-2019               0.29   \n",
       "2               2                  9  16-03-2020               1.65   \n",
       "3               3                 42  17-02-2020               0.72   \n",
       "4               2                 89  26-02-2020               4.02   \n",
       "\n",
       "   calculated_host_listings_count  availability_365  price  \n",
       "0                               1                 0    220  \n",
       "1                               1                 0    110  \n",
       "2                               1                 7    100  \n",
       "3                               1                 0    130  \n",
       "4                               1                24     90  "
      ]
     },
     "execution_count": 17,
     "metadata": {},
     "output_type": "execute_result"
    }
   ],
   "source": [
    "airbnb_lst_data = airbnb_lst_data.drop('neighbourhood_group',axis=1)\n",
    "airbnb_lst_data.head()"
   ]
  },
  {
   "cell_type": "code",
   "execution_count": 19,
   "id": "8c18f9db",
   "metadata": {},
   "outputs": [
    {
     "data": {
      "text/html": [
       "<div>\n",
       "<style scoped>\n",
       "    .dataframe tbody tr th:only-of-type {\n",
       "        vertical-align: middle;\n",
       "    }\n",
       "\n",
       "    .dataframe tbody tr th {\n",
       "        vertical-align: top;\n",
       "    }\n",
       "\n",
       "    .dataframe thead th {\n",
       "        text-align: right;\n",
       "    }\n",
       "</style>\n",
       "<table border=\"1\" class=\"dataframe\">\n",
       "  <thead>\n",
       "    <tr style=\"text-align: right;\">\n",
       "      <th></th>\n",
       "      <th>id</th>\n",
       "      <th>name</th>\n",
       "      <th>host_id</th>\n",
       "      <th>host_name</th>\n",
       "      <th>neighbourhood</th>\n",
       "      <th>latitude</th>\n",
       "      <th>longitude</th>\n",
       "      <th>room_type</th>\n",
       "      <th>minimum_nights</th>\n",
       "      <th>number_of_reviews</th>\n",
       "      <th>reviews_per_month</th>\n",
       "      <th>calculated_host_listings_count</th>\n",
       "      <th>availability_365</th>\n",
       "      <th>price</th>\n",
       "    </tr>\n",
       "  </thead>\n",
       "  <tbody>\n",
       "    <tr>\n",
       "      <th>0</th>\n",
       "      <td>11602914</td>\n",
       "      <td>Luxury home 100m2+garden in center!</td>\n",
       "      <td>3123809</td>\n",
       "      <td>Marjolein</td>\n",
       "      <td>De Pijp - Rivierenbuurt</td>\n",
       "      <td>52.35368</td>\n",
       "      <td>4.90177</td>\n",
       "      <td>Entire home/apt</td>\n",
       "      <td>3</td>\n",
       "      <td>13</td>\n",
       "      <td>0.27</td>\n",
       "      <td>1</td>\n",
       "      <td>0</td>\n",
       "      <td>220</td>\n",
       "    </tr>\n",
       "    <tr>\n",
       "      <th>1</th>\n",
       "      <td>13289321</td>\n",
       "      <td>East is where your home is!</td>\n",
       "      <td>10259430</td>\n",
       "      <td>Ana</td>\n",
       "      <td>Oud-Oost</td>\n",
       "      <td>52.35728</td>\n",
       "      <td>4.92052</td>\n",
       "      <td>Entire home/apt</td>\n",
       "      <td>4</td>\n",
       "      <td>14</td>\n",
       "      <td>0.29</td>\n",
       "      <td>1</td>\n",
       "      <td>0</td>\n",
       "      <td>110</td>\n",
       "    </tr>\n",
       "    <tr>\n",
       "      <th>2</th>\n",
       "      <td>40779315</td>\n",
       "      <td>Amsterdam Central - LUXURY house in BUSY STREET</td>\n",
       "      <td>224969266</td>\n",
       "      <td>Mark</td>\n",
       "      <td>Centrum-West</td>\n",
       "      <td>52.37582</td>\n",
       "      <td>4.89850</td>\n",
       "      <td>Entire home/apt</td>\n",
       "      <td>2</td>\n",
       "      <td>9</td>\n",
       "      <td>1.65</td>\n",
       "      <td>1</td>\n",
       "      <td>7</td>\n",
       "      <td>100</td>\n",
       "    </tr>\n",
       "    <tr>\n",
       "      <th>3</th>\n",
       "      <td>7820311</td>\n",
       "      <td>great appartment down town</td>\n",
       "      <td>693472</td>\n",
       "      <td>Ayden</td>\n",
       "      <td>Westerpark</td>\n",
       "      <td>52.37792</td>\n",
       "      <td>4.87300</td>\n",
       "      <td>Entire home/apt</td>\n",
       "      <td>3</td>\n",
       "      <td>42</td>\n",
       "      <td>0.72</td>\n",
       "      <td>1</td>\n",
       "      <td>0</td>\n",
       "      <td>130</td>\n",
       "    </tr>\n",
       "    <tr>\n",
       "      <th>4</th>\n",
       "      <td>27346603</td>\n",
       "      <td>Private room with canal view in peaceful area</td>\n",
       "      <td>41888346</td>\n",
       "      <td>Alissa</td>\n",
       "      <td>Westerpark</td>\n",
       "      <td>52.38051</td>\n",
       "      <td>4.87493</td>\n",
       "      <td>Private room</td>\n",
       "      <td>2</td>\n",
       "      <td>89</td>\n",
       "      <td>4.02</td>\n",
       "      <td>1</td>\n",
       "      <td>24</td>\n",
       "      <td>90</td>\n",
       "    </tr>\n",
       "  </tbody>\n",
       "</table>\n",
       "</div>"
      ],
      "text/plain": [
       "         id                                             name    host_id  \\\n",
       "0  11602914              Luxury home 100m2+garden in center!    3123809   \n",
       "1  13289321                      East is where your home is!   10259430   \n",
       "2  40779315  Amsterdam Central - LUXURY house in BUSY STREET  224969266   \n",
       "3   7820311                       great appartment down town     693472   \n",
       "4  27346603    Private room with canal view in peaceful area   41888346   \n",
       "\n",
       "   host_name            neighbourhood  latitude  longitude        room_type  \\\n",
       "0  Marjolein  De Pijp - Rivierenbuurt  52.35368    4.90177  Entire home/apt   \n",
       "1        Ana                 Oud-Oost  52.35728    4.92052  Entire home/apt   \n",
       "2       Mark             Centrum-West  52.37582    4.89850  Entire home/apt   \n",
       "3      Ayden               Westerpark  52.37792    4.87300  Entire home/apt   \n",
       "4     Alissa               Westerpark  52.38051    4.87493     Private room   \n",
       "\n",
       "   minimum_nights  number_of_reviews  reviews_per_month  \\\n",
       "0               3                 13               0.27   \n",
       "1               4                 14               0.29   \n",
       "2               2                  9               1.65   \n",
       "3               3                 42               0.72   \n",
       "4               2                 89               4.02   \n",
       "\n",
       "   calculated_host_listings_count  availability_365  price  \n",
       "0                               1                 0    220  \n",
       "1                               1                 0    110  \n",
       "2                               1                 7    100  \n",
       "3                               1                 0    130  \n",
       "4                               1                24     90  "
      ]
     },
     "execution_count": 19,
     "metadata": {},
     "output_type": "execute_result"
    }
   ],
   "source": [
    "airbnb_lst_data = airbnb_lst_data.drop(['last_review'],axis=1)\n",
    "airbnb_lst_data.head()"
   ]
  },
  {
   "cell_type": "code",
   "execution_count": 21,
   "id": "12346e59",
   "metadata": {},
   "outputs": [
    {
     "name": "stdout",
     "output_type": "stream",
     "text": [
      "<class 'pandas.core.frame.DataFrame'>\n",
      "RangeIndex: 12901 entries, 0 to 12900\n",
      "Data columns (total 14 columns):\n",
      " #   Column                          Non-Null Count  Dtype  \n",
      "---  ------                          --------------  -----  \n",
      " 0   id                              12901 non-null  int64  \n",
      " 1   name                            12879 non-null  object \n",
      " 2   host_id                         12901 non-null  int64  \n",
      " 3   host_name                       12893 non-null  object \n",
      " 4   neighbourhood                   12901 non-null  object \n",
      " 5   latitude                        12901 non-null  float64\n",
      " 6   longitude                       12901 non-null  float64\n",
      " 7   room_type                       12901 non-null  object \n",
      " 8   minimum_nights                  12901 non-null  int64  \n",
      " 9   number_of_reviews               12901 non-null  int64  \n",
      " 10  reviews_per_month               11305 non-null  float64\n",
      " 11  calculated_host_listings_count  12901 non-null  int64  \n",
      " 12  availability_365                12901 non-null  int64  \n",
      " 13  price                           12901 non-null  int64  \n",
      "dtypes: float64(3), int64(7), object(4)\n",
      "memory usage: 1.4+ MB\n"
     ]
    }
   ],
   "source": [
    "airbnb_lst_data.info()"
   ]
  },
  {
   "cell_type": "code",
   "execution_count": 23,
   "id": "9f97432f",
   "metadata": {},
   "outputs": [
    {
     "data": {
      "text/html": [
       "<div>\n",
       "<style scoped>\n",
       "    .dataframe tbody tr th:only-of-type {\n",
       "        vertical-align: middle;\n",
       "    }\n",
       "\n",
       "    .dataframe tbody tr th {\n",
       "        vertical-align: top;\n",
       "    }\n",
       "\n",
       "    .dataframe thead th {\n",
       "        text-align: right;\n",
       "    }\n",
       "</style>\n",
       "<table border=\"1\" class=\"dataframe\">\n",
       "  <thead>\n",
       "    <tr style=\"text-align: right;\">\n",
       "      <th></th>\n",
       "      <th>neighbourhood</th>\n",
       "      <th>latitude</th>\n",
       "      <th>longitude</th>\n",
       "      <th>room_type</th>\n",
       "      <th>minimum_nights</th>\n",
       "      <th>number_of_reviews</th>\n",
       "      <th>reviews_per_month</th>\n",
       "      <th>calculated_host_listings_count</th>\n",
       "      <th>availability_365</th>\n",
       "      <th>price</th>\n",
       "    </tr>\n",
       "  </thead>\n",
       "  <tbody>\n",
       "    <tr>\n",
       "      <th>0</th>\n",
       "      <td>De Pijp - Rivierenbuurt</td>\n",
       "      <td>52.35368</td>\n",
       "      <td>4.90177</td>\n",
       "      <td>Entire home/apt</td>\n",
       "      <td>3</td>\n",
       "      <td>13</td>\n",
       "      <td>0.27</td>\n",
       "      <td>1</td>\n",
       "      <td>0</td>\n",
       "      <td>220</td>\n",
       "    </tr>\n",
       "    <tr>\n",
       "      <th>1</th>\n",
       "      <td>Oud-Oost</td>\n",
       "      <td>52.35728</td>\n",
       "      <td>4.92052</td>\n",
       "      <td>Entire home/apt</td>\n",
       "      <td>4</td>\n",
       "      <td>14</td>\n",
       "      <td>0.29</td>\n",
       "      <td>1</td>\n",
       "      <td>0</td>\n",
       "      <td>110</td>\n",
       "    </tr>\n",
       "    <tr>\n",
       "      <th>2</th>\n",
       "      <td>Centrum-West</td>\n",
       "      <td>52.37582</td>\n",
       "      <td>4.89850</td>\n",
       "      <td>Entire home/apt</td>\n",
       "      <td>2</td>\n",
       "      <td>9</td>\n",
       "      <td>1.65</td>\n",
       "      <td>1</td>\n",
       "      <td>7</td>\n",
       "      <td>100</td>\n",
       "    </tr>\n",
       "    <tr>\n",
       "      <th>3</th>\n",
       "      <td>Westerpark</td>\n",
       "      <td>52.37792</td>\n",
       "      <td>4.87300</td>\n",
       "      <td>Entire home/apt</td>\n",
       "      <td>3</td>\n",
       "      <td>42</td>\n",
       "      <td>0.72</td>\n",
       "      <td>1</td>\n",
       "      <td>0</td>\n",
       "      <td>130</td>\n",
       "    </tr>\n",
       "    <tr>\n",
       "      <th>4</th>\n",
       "      <td>Westerpark</td>\n",
       "      <td>52.38051</td>\n",
       "      <td>4.87493</td>\n",
       "      <td>Private room</td>\n",
       "      <td>2</td>\n",
       "      <td>89</td>\n",
       "      <td>4.02</td>\n",
       "      <td>1</td>\n",
       "      <td>24</td>\n",
       "      <td>90</td>\n",
       "    </tr>\n",
       "  </tbody>\n",
       "</table>\n",
       "</div>"
      ],
      "text/plain": [
       "             neighbourhood  latitude  longitude        room_type  \\\n",
       "0  De Pijp - Rivierenbuurt  52.35368    4.90177  Entire home/apt   \n",
       "1                 Oud-Oost  52.35728    4.92052  Entire home/apt   \n",
       "2             Centrum-West  52.37582    4.89850  Entire home/apt   \n",
       "3               Westerpark  52.37792    4.87300  Entire home/apt   \n",
       "4               Westerpark  52.38051    4.87493     Private room   \n",
       "\n",
       "   minimum_nights  number_of_reviews  reviews_per_month  \\\n",
       "0               3                 13               0.27   \n",
       "1               4                 14               0.29   \n",
       "2               2                  9               1.65   \n",
       "3               3                 42               0.72   \n",
       "4               2                 89               4.02   \n",
       "\n",
       "   calculated_host_listings_count  availability_365  price  \n",
       "0                               1                 0    220  \n",
       "1                               1                 0    110  \n",
       "2                               1                 7    100  \n",
       "3                               1                 0    130  \n",
       "4                               1                24     90  "
      ]
     },
     "execution_count": 23,
     "metadata": {},
     "output_type": "execute_result"
    }
   ],
   "source": [
    "airbnb_lst_data = airbnb_lst_data.drop(['id','name','host_id','host_name'],axis=1)\n",
    "airbnb_lst_data.head()"
   ]
  },
  {
   "cell_type": "code",
   "execution_count": 25,
   "id": "7d27dcd2",
   "metadata": {},
   "outputs": [
    {
     "data": {
      "text/plain": [
       "De Baarsjes - Oud-West                    2209\n",
       "De Pijp - Rivierenbuurt                   1600\n",
       "Centrum-West                              1429\n",
       "Centrum-Oost                              1097\n",
       "Westerpark                                 958\n",
       "Zuid                                       924\n",
       "Oud-Oost                                   831\n",
       "Bos en Lommer                              730\n",
       "Oostelijk Havengebied - Indische Buurt     644\n",
       "Watergraafsmeer                            381\n",
       "Oud-Noord                                  376\n",
       "IJburg - Zeeburgereiland                   321\n",
       "Slotervaart                                269\n",
       "Noord-West                                 257\n",
       "Noord-Oost                                 171\n",
       "Buitenveldert - Zuidas                     155\n",
       "Geuzenveld - Slotermeer                    144\n",
       "De Aker - Nieuw Sloten                      88\n",
       "Osdorp                                      83\n",
       "Gaasperdam - Driemond                       80\n",
       "Bijlmer-Centrum                             78\n",
       "Bijlmer-Oost                                76\n",
       "Name: neighbourhood, dtype: int64"
      ]
     },
     "execution_count": 25,
     "metadata": {},
     "output_type": "execute_result"
    }
   ],
   "source": [
    "airbnb_lst_data['neighbourhood'].value_counts()"
   ]
  },
  {
   "cell_type": "code",
   "execution_count": 27,
   "id": "77854327",
   "metadata": {},
   "outputs": [
    {
     "data": {
      "text/plain": [
       "Entire home/apt    10064\n",
       "Private room        2622\n",
       "Hotel room           174\n",
       "Shared room           41\n",
       "Name: room_type, dtype: int64"
      ]
     },
     "execution_count": 27,
     "metadata": {},
     "output_type": "execute_result"
    }
   ],
   "source": [
    "airbnb_lst_data['room_type'].value_counts()"
   ]
  },
  {
   "cell_type": "code",
   "execution_count": 29,
   "id": "e73a4bc3",
   "metadata": {},
   "outputs": [
    {
     "data": {
      "text/plain": [
       "neighbourhood                     0\n",
       "latitude                          0\n",
       "longitude                         0\n",
       "room_type                         0\n",
       "minimum_nights                    0\n",
       "number_of_reviews                 0\n",
       "reviews_per_month                 0\n",
       "calculated_host_listings_count    0\n",
       "availability_365                  0\n",
       "price                             0\n",
       "dtype: int64"
      ]
     },
     "execution_count": 29,
     "metadata": {},
     "output_type": "execute_result"
    }
   ],
   "source": [
    "airbnb_lst_data['reviews_per_month'] = airbnb_lst_data['reviews_per_month'].fillna(airbnb_lst_data['reviews_per_month'].median())\n",
    "airbnb_lst_data.isnull().sum()"
   ]
  },
  {
   "cell_type": "markdown",
   "id": "0e45455a-16b8-4ea8-adb6-7d75eacac5b4",
   "metadata": {},
   "source": [
    "## Data Visualization"
   ]
  },
  {
   "cell_type": "code",
   "execution_count": 32,
   "id": "9a126eb6",
   "metadata": {},
   "outputs": [
    {
     "data": {
      "text/plain": [
       "<AxesSubplot:xlabel='latitude', ylabel='longitude'>"
      ]
     },
     "execution_count": 32,
     "metadata": {},
     "output_type": "execute_result"
    },
    {
     "data": {
      "image/png": "[encoded data removed]",
      "text/plain": [
       "<Figure size 432x288 with 1 Axes>"
      ]
     },
     "metadata": {
      "needs_background": "light"
     },
     "output_type": "display_data"
    }
   ],
   "source": [
    "sns.scatterplot(x=airbnb_lst_data['latitude'],y=airbnb_lst_data['longitude'],hue=airbnb_lst_data['room_type'])"
   ]
  },
  {
   "cell_type": "code",
   "execution_count": 34,
   "id": "94e2cc94",
   "metadata": {},
   "outputs": [
    {
     "data": {
      "text/plain": [
       "<AxesSubplot:xlabel='room_type', ylabel='count'>"
      ]
     },
     "execution_count": 34,
     "metadata": {},
     "output_type": "execute_result"
    },
    {
     "data": {
      "image/png": "[encoded data removed]",
      "text/plain": [
       "<Figure size 432x288 with 1 Axes>"
      ]
     },
     "metadata": {
      "needs_background": "light"
     },
     "output_type": "display_data"
    }
   ],
   "source": [
    "sns.countplot(x=airbnb_lst_data['room_type'])"
   ]
  },
  {
   "cell_type": "code",
   "execution_count": 36,
   "id": "2d100812",
   "metadata": {},
   "outputs": [
    {
     "data": {
      "text/plain": [
       "<AxesSubplot:>"
      ]
     },
     "execution_count": 36,
     "metadata": {},
     "output_type": "execute_result"
    },
    {
     "data": {
      "image/png": "[encoded data removed]",
      "text/plain": [
       "<Figure size 432x288 with 2 Axes>"
      ]
     },
     "metadata": {
      "needs_background": "light"
     },
     "output_type": "display_data"
    }
   ],
   "source": [
    "sns.heatmap(airbnb_lst_data.corr(),annot=True)"
   ]
  },
  {
   "cell_type": "code",
   "execution_count": 38,
   "id": "d87ce94d",
   "metadata": {},
   "outputs": [
    {
     "data": {
      "text/plain": [
       "<AxesSubplot:ylabel='Density'>"
      ]
     },
     "execution_count": 38,
     "metadata": {},
     "output_type": "execute_result"
    },
    {
     "data": {
      "image/png": "[encoded data removed]",
      "text/plain": [
       "<Figure size 432x288 with 1 Axes>"
      ]
     },
     "metadata": {
      "needs_background": "light"
     },
     "output_type": "display_data"
    }
   ],
   "source": [
    "sns.distplot(x=airbnb_lst_data['price'])"
   ]
  },
  {
   "cell_type": "code",
   "execution_count": 40,
   "id": "bbef3a76",
   "metadata": {},
   "outputs": [
    {
     "data": {
      "text/plain": [
       "<AxesSubplot:xlabel='room_type', ylabel='price'>"
      ]
     },
     "execution_count": 40,
     "metadata": {},
     "output_type": "execute_result"
    },
    {
     "data": {
      "image/png": "[encoded data removed]",
      "text/plain": [
       "<Figure size 432x288 with 1 Axes>"
      ]
     },
     "metadata": {
      "needs_background": "light"
     },
     "output_type": "display_data"
    }
   ],
   "source": [
    "sns.barplot(x=airbnb_lst_data['room_type'],y=airbnb_lst_data['price'])"
   ]
  },
  {
   "cell_type": "code",
   "execution_count": 42,
   "id": "fa25dec6",
   "metadata": {},
   "outputs": [
    {
     "data": {
      "text/plain": [
       "<AxesSubplot:xlabel='room_type', ylabel='price'>"
      ]
     },
     "execution_count": 42,
     "metadata": {},
     "output_type": "execute_result"
    },
    {
     "data": {
      "image/png": "[encoded data removed]",
      "text/plain": [
       "<Figure size 432x288 with 1 Axes>"
      ]
     },
     "metadata": {
      "needs_background": "light"
     },
     "output_type": "display_data"
    }
   ],
   "source": [
    "sns.violinplot(x=airbnb_lst_data['room_type'],y=airbnb_lst_data['price'])"
   ]
  },
  {
   "cell_type": "markdown",
   "id": "e3bdf434",
   "metadata": {},
   "source": [
    "## Feature scaling"
   ]
  },
  {
   "cell_type": "code",
   "execution_count": 45,
   "id": "896fa85b",
   "metadata": {},
   "outputs": [
    {
     "data": {
      "text/plain": [
       "StandardScaler()"
      ]
     },
     "execution_count": 45,
     "metadata": {},
     "output_type": "execute_result"
    }
   ],
   "source": [
    "ss = StandardScaler()\n",
    "ss"
   ]
  },
  {
   "cell_type": "code",
   "execution_count": 49,
   "id": "6a5e5889",
   "metadata": {},
   "outputs": [
    {
     "data": {
      "text/html": [
       "<div>\n",
       "<style scoped>\n",
       "    .dataframe tbody tr th:only-of-type {\n",
       "        vertical-align: middle;\n",
       "    }\n",
       "\n",
       "    .dataframe tbody tr th {\n",
       "        vertical-align: top;\n",
       "    }\n",
       "\n",
       "    .dataframe thead th {\n",
       "        text-align: right;\n",
       "    }\n",
       "</style>\n",
       "<table border=\"1\" class=\"dataframe\">\n",
       "  <thead>\n",
       "    <tr style=\"text-align: right;\">\n",
       "      <th></th>\n",
       "      <th>neighbourhood</th>\n",
       "      <th>latitude</th>\n",
       "      <th>longitude</th>\n",
       "      <th>room_type</th>\n",
       "      <th>minimum_nights</th>\n",
       "      <th>number_of_reviews</th>\n",
       "      <th>reviews_per_month</th>\n",
       "      <th>calculated_host_listings_count</th>\n",
       "      <th>availability_365</th>\n",
       "      <th>price</th>\n",
       "    </tr>\n",
       "  </thead>\n",
       "  <tbody>\n",
       "    <tr>\n",
       "      <th>0</th>\n",
       "      <td>De Pijp - Rivierenbuurt</td>\n",
       "      <td>-0.708567</td>\n",
       "      <td>0.333919</td>\n",
       "      <td>Entire home/apt</td>\n",
       "      <td>-0.035801</td>\n",
       "      <td>-0.221017</td>\n",
       "      <td>-0.364897</td>\n",
       "      <td>-0.189366</td>\n",
       "      <td>-0.568531</td>\n",
       "      <td>220</td>\n",
       "    </tr>\n",
       "    <tr>\n",
       "      <th>1</th>\n",
       "      <td>Oud-Oost</td>\n",
       "      <td>-0.489290</td>\n",
       "      <td>0.854540</td>\n",
       "      <td>Entire home/apt</td>\n",
       "      <td>0.030190</td>\n",
       "      <td>-0.202292</td>\n",
       "      <td>-0.348039</td>\n",
       "      <td>-0.189366</td>\n",
       "      <td>-0.568531</td>\n",
       "      <td>110</td>\n",
       "    </tr>\n",
       "    <tr>\n",
       "      <th>2</th>\n",
       "      <td>Centrum-West</td>\n",
       "      <td>0.639988</td>\n",
       "      <td>0.243123</td>\n",
       "      <td>Entire home/apt</td>\n",
       "      <td>-0.101793</td>\n",
       "      <td>-0.295917</td>\n",
       "      <td>0.798287</td>\n",
       "      <td>-0.189366</td>\n",
       "      <td>-0.503706</td>\n",
       "      <td>100</td>\n",
       "    </tr>\n",
       "    <tr>\n",
       "      <th>3</th>\n",
       "      <td>Westerpark</td>\n",
       "      <td>0.767900</td>\n",
       "      <td>-0.464922</td>\n",
       "      <td>Entire home/apt</td>\n",
       "      <td>-0.035801</td>\n",
       "      <td>0.322013</td>\n",
       "      <td>0.014402</td>\n",
       "      <td>-0.189366</td>\n",
       "      <td>-0.568531</td>\n",
       "      <td>130</td>\n",
       "    </tr>\n",
       "    <tr>\n",
       "      <th>4</th>\n",
       "      <td>Westerpark</td>\n",
       "      <td>0.925657</td>\n",
       "      <td>-0.411332</td>\n",
       "      <td>Private room</td>\n",
       "      <td>-0.101793</td>\n",
       "      <td>1.202096</td>\n",
       "      <td>2.795930</td>\n",
       "      <td>-0.189366</td>\n",
       "      <td>-0.346276</td>\n",
       "      <td>90</td>\n",
       "    </tr>\n",
       "  </tbody>\n",
       "</table>\n",
       "</div>"
      ],
      "text/plain": [
       "             neighbourhood  latitude  longitude        room_type  \\\n",
       "0  De Pijp - Rivierenbuurt -0.708567   0.333919  Entire home/apt   \n",
       "1                 Oud-Oost -0.489290   0.854540  Entire home/apt   \n",
       "2             Centrum-West  0.639988   0.243123  Entire home/apt   \n",
       "3               Westerpark  0.767900  -0.464922  Entire home/apt   \n",
       "4               Westerpark  0.925657  -0.411332     Private room   \n",
       "\n",
       "   minimum_nights  number_of_reviews  reviews_per_month  \\\n",
       "0       -0.035801          -0.221017          -0.364897   \n",
       "1        0.030190          -0.202292          -0.348039   \n",
       "2       -0.101793          -0.295917           0.798287   \n",
       "3       -0.035801           0.322013           0.014402   \n",
       "4       -0.101793           1.202096           2.795930   \n",
       "\n",
       "   calculated_host_listings_count  availability_365  price  \n",
       "0                       -0.189366         -0.568531    220  \n",
       "1                       -0.189366         -0.568531    110  \n",
       "2                       -0.189366         -0.503706    100  \n",
       "3                       -0.189366         -0.568531    130  \n",
       "4                       -0.189366         -0.346276     90  "
      ]
     },
     "execution_count": 49,
     "metadata": {},
     "output_type": "execute_result"
    }
   ],
   "source": [
    "airbnb_lst_data[['latitude','longitude','minimum_nights','number_of_reviews','reviews_per_month', \n",
    "                 'calculated_host_listings_count','availability_365']] = ss.fit_transform(airbnb_lst_data[['latitude', 'longitude','minimum_nights','number_of_reviews','reviews_per_month',\n",
    "                                                                                                           'calculated_host_listings_count','availability_365']])\n",
    "airbnb_lst_data.head()"
   ]
  },
  {
   "cell_type": "markdown",
   "id": "02d558b1",
   "metadata": {},
   "source": [
    "## Feature encoding"
   ]
  },
  {
   "cell_type": "code",
   "execution_count": 51,
   "id": "b4a69986",
   "metadata": {},
   "outputs": [
    {
     "data": {
      "text/html": [
       "<div>\n",
       "<style scoped>\n",
       "    .dataframe tbody tr th:only-of-type {\n",
       "        vertical-align: middle;\n",
       "    }\n",
       "\n",
       "    .dataframe tbody tr th {\n",
       "        vertical-align: top;\n",
       "    }\n",
       "\n",
       "    .dataframe thead th {\n",
       "        text-align: right;\n",
       "    }\n",
       "</style>\n",
       "<table border=\"1\" class=\"dataframe\">\n",
       "  <thead>\n",
       "    <tr style=\"text-align: right;\">\n",
       "      <th></th>\n",
       "      <th>neighbourhood_Bijlmer-Centrum</th>\n",
       "      <th>neighbourhood_Bijlmer-Oost</th>\n",
       "      <th>neighbourhood_Bos en Lommer</th>\n",
       "      <th>neighbourhood_Buitenveldert - Zuidas</th>\n",
       "      <th>neighbourhood_Centrum-Oost</th>\n",
       "      <th>neighbourhood_Centrum-West</th>\n",
       "      <th>neighbourhood_De Aker - Nieuw Sloten</th>\n",
       "      <th>neighbourhood_De Baarsjes - Oud-West</th>\n",
       "      <th>neighbourhood_De Pijp - Rivierenbuurt</th>\n",
       "      <th>neighbourhood_Gaasperdam - Driemond</th>\n",
       "      <th>...</th>\n",
       "      <th>neighbourhood_Oud-Noord</th>\n",
       "      <th>neighbourhood_Oud-Oost</th>\n",
       "      <th>neighbourhood_Slotervaart</th>\n",
       "      <th>neighbourhood_Watergraafsmeer</th>\n",
       "      <th>neighbourhood_Westerpark</th>\n",
       "      <th>neighbourhood_Zuid</th>\n",
       "      <th>room_type_Entire home/apt</th>\n",
       "      <th>room_type_Hotel room</th>\n",
       "      <th>room_type_Private room</th>\n",
       "      <th>room_type_Shared room</th>\n",
       "    </tr>\n",
       "  </thead>\n",
       "  <tbody>\n",
       "    <tr>\n",
       "      <th>0</th>\n",
       "      <td>0</td>\n",
       "      <td>0</td>\n",
       "      <td>0</td>\n",
       "      <td>0</td>\n",
       "      <td>0</td>\n",
       "      <td>0</td>\n",
       "      <td>0</td>\n",
       "      <td>0</td>\n",
       "      <td>1</td>\n",
       "      <td>0</td>\n",
       "      <td>...</td>\n",
       "      <td>0</td>\n",
       "      <td>0</td>\n",
       "      <td>0</td>\n",
       "      <td>0</td>\n",
       "      <td>0</td>\n",
       "      <td>0</td>\n",
       "      <td>1</td>\n",
       "      <td>0</td>\n",
       "      <td>0</td>\n",
       "      <td>0</td>\n",
       "    </tr>\n",
       "    <tr>\n",
       "      <th>1</th>\n",
       "      <td>0</td>\n",
       "      <td>0</td>\n",
       "      <td>0</td>\n",
       "      <td>0</td>\n",
       "      <td>0</td>\n",
       "      <td>0</td>\n",
       "      <td>0</td>\n",
       "      <td>0</td>\n",
       "      <td>0</td>\n",
       "      <td>0</td>\n",
       "      <td>...</td>\n",
       "      <td>0</td>\n",
       "      <td>1</td>\n",
       "      <td>0</td>\n",
       "      <td>0</td>\n",
       "      <td>0</td>\n",
       "      <td>0</td>\n",
       "      <td>1</td>\n",
       "      <td>0</td>\n",
       "      <td>0</td>\n",
       "      <td>0</td>\n",
       "    </tr>\n",
       "    <tr>\n",
       "      <th>2</th>\n",
       "      <td>0</td>\n",
       "      <td>0</td>\n",
       "      <td>0</td>\n",
       "      <td>0</td>\n",
       "      <td>0</td>\n",
       "      <td>1</td>\n",
       "      <td>0</td>\n",
       "      <td>0</td>\n",
       "      <td>0</td>\n",
       "      <td>0</td>\n",
       "      <td>...</td>\n",
       "      <td>0</td>\n",
       "      <td>0</td>\n",
       "      <td>0</td>\n",
       "      <td>0</td>\n",
       "      <td>0</td>\n",
       "      <td>0</td>\n",
       "      <td>1</td>\n",
       "      <td>0</td>\n",
       "      <td>0</td>\n",
       "      <td>0</td>\n",
       "    </tr>\n",
       "    <tr>\n",
       "      <th>3</th>\n",
       "      <td>0</td>\n",
       "      <td>0</td>\n",
       "      <td>0</td>\n",
       "      <td>0</td>\n",
       "      <td>0</td>\n",
       "      <td>0</td>\n",
       "      <td>0</td>\n",
       "      <td>0</td>\n",
       "      <td>0</td>\n",
       "      <td>0</td>\n",
       "      <td>...</td>\n",
       "      <td>0</td>\n",
       "      <td>0</td>\n",
       "      <td>0</td>\n",
       "      <td>0</td>\n",
       "      <td>1</td>\n",
       "      <td>0</td>\n",
       "      <td>1</td>\n",
       "      <td>0</td>\n",
       "      <td>0</td>\n",
       "      <td>0</td>\n",
       "    </tr>\n",
       "    <tr>\n",
       "      <th>4</th>\n",
       "      <td>0</td>\n",
       "      <td>0</td>\n",
       "      <td>0</td>\n",
       "      <td>0</td>\n",
       "      <td>0</td>\n",
       "      <td>0</td>\n",
       "      <td>0</td>\n",
       "      <td>0</td>\n",
       "      <td>0</td>\n",
       "      <td>0</td>\n",
       "      <td>...</td>\n",
       "      <td>0</td>\n",
       "      <td>0</td>\n",
       "      <td>0</td>\n",
       "      <td>0</td>\n",
       "      <td>1</td>\n",
       "      <td>0</td>\n",
       "      <td>0</td>\n",
       "      <td>0</td>\n",
       "      <td>1</td>\n",
       "      <td>0</td>\n",
       "    </tr>\n",
       "  </tbody>\n",
       "</table>\n",
       "<p>5 rows × 26 columns</p>\n",
       "</div>"
      ],
      "text/plain": [
       "   neighbourhood_Bijlmer-Centrum  neighbourhood_Bijlmer-Oost  \\\n",
       "0                              0                           0   \n",
       "1                              0                           0   \n",
       "2                              0                           0   \n",
       "3                              0                           0   \n",
       "4                              0                           0   \n",
       "\n",
       "   neighbourhood_Bos en Lommer  neighbourhood_Buitenveldert - Zuidas  \\\n",
       "0                            0                                     0   \n",
       "1                            0                                     0   \n",
       "2                            0                                     0   \n",
       "3                            0                                     0   \n",
       "4                            0                                     0   \n",
       "\n",
       "   neighbourhood_Centrum-Oost  neighbourhood_Centrum-West  \\\n",
       "0                           0                           0   \n",
       "1                           0                           0   \n",
       "2                           0                           1   \n",
       "3                           0                           0   \n",
       "4                           0                           0   \n",
       "\n",
       "   neighbourhood_De Aker - Nieuw Sloten  neighbourhood_De Baarsjes - Oud-West  \\\n",
       "0                                     0                                     0   \n",
       "1                                     0                                     0   \n",
       "2                                     0                                     0   \n",
       "3                                     0                                     0   \n",
       "4                                     0                                     0   \n",
       "\n",
       "   neighbourhood_De Pijp - Rivierenbuurt  neighbourhood_Gaasperdam - Driemond  \\\n",
       "0                                      1                                    0   \n",
       "1                                      0                                    0   \n",
       "2                                      0                                    0   \n",
       "3                                      0                                    0   \n",
       "4                                      0                                    0   \n",
       "\n",
       "   ...  neighbourhood_Oud-Noord  neighbourhood_Oud-Oost  \\\n",
       "0  ...                        0                       0   \n",
       "1  ...                        0                       1   \n",
       "2  ...                        0                       0   \n",
       "3  ...                        0                       0   \n",
       "4  ...                        0                       0   \n",
       "\n",
       "   neighbourhood_Slotervaart  neighbourhood_Watergraafsmeer  \\\n",
       "0                          0                              0   \n",
       "1                          0                              0   \n",
       "2                          0                              0   \n",
       "3                          0                              0   \n",
       "4                          0                              0   \n",
       "\n",
       "   neighbourhood_Westerpark  neighbourhood_Zuid  room_type_Entire home/apt  \\\n",
       "0                         0                   0                          1   \n",
       "1                         0                   0                          1   \n",
       "2                         0                   0                          1   \n",
       "3                         1                   0                          1   \n",
       "4                         1                   0                          0   \n",
       "\n",
       "   room_type_Hotel room  room_type_Private room  room_type_Shared room  \n",
       "0                     0                       0                      0  \n",
       "1                     0                       0                      0  \n",
       "2                     0                       0                      0  \n",
       "3                     0                       0                      0  \n",
       "4                     0                       1                      0  \n",
       "\n",
       "[5 rows x 26 columns]"
      ]
     },
     "execution_count": 51,
     "metadata": {},
     "output_type": "execute_result"
    }
   ],
   "source": [
    "data_ohe = pd.get_dummies(airbnb_lst_data[['neighbourhood','room_type']])\n",
    "data_ohe.head()"
   ]
  },
  {
   "cell_type": "code",
   "execution_count": 53,
   "id": "771d2197",
   "metadata": {},
   "outputs": [
    {
     "data": {
      "text/html": [
       "<div>\n",
       "<style scoped>\n",
       "    .dataframe tbody tr th:only-of-type {\n",
       "        vertical-align: middle;\n",
       "    }\n",
       "\n",
       "    .dataframe tbody tr th {\n",
       "        vertical-align: top;\n",
       "    }\n",
       "\n",
       "    .dataframe thead th {\n",
       "        text-align: right;\n",
       "    }\n",
       "</style>\n",
       "<table border=\"1\" class=\"dataframe\">\n",
       "  <thead>\n",
       "    <tr style=\"text-align: right;\">\n",
       "      <th></th>\n",
       "      <th>latitude</th>\n",
       "      <th>longitude</th>\n",
       "      <th>minimum_nights</th>\n",
       "      <th>number_of_reviews</th>\n",
       "      <th>reviews_per_month</th>\n",
       "      <th>calculated_host_listings_count</th>\n",
       "      <th>availability_365</th>\n",
       "      <th>price</th>\n",
       "      <th>neighbourhood_Bijlmer-Centrum</th>\n",
       "      <th>neighbourhood_Bijlmer-Oost</th>\n",
       "      <th>...</th>\n",
       "      <th>neighbourhood_Oud-Noord</th>\n",
       "      <th>neighbourhood_Oud-Oost</th>\n",
       "      <th>neighbourhood_Slotervaart</th>\n",
       "      <th>neighbourhood_Watergraafsmeer</th>\n",
       "      <th>neighbourhood_Westerpark</th>\n",
       "      <th>neighbourhood_Zuid</th>\n",
       "      <th>room_type_Entire home/apt</th>\n",
       "      <th>room_type_Hotel room</th>\n",
       "      <th>room_type_Private room</th>\n",
       "      <th>room_type_Shared room</th>\n",
       "    </tr>\n",
       "  </thead>\n",
       "  <tbody>\n",
       "    <tr>\n",
       "      <th>0</th>\n",
       "      <td>-0.708567</td>\n",
       "      <td>0.333919</td>\n",
       "      <td>-0.035801</td>\n",
       "      <td>-0.221017</td>\n",
       "      <td>-0.364897</td>\n",
       "      <td>-0.189366</td>\n",
       "      <td>-0.568531</td>\n",
       "      <td>220</td>\n",
       "      <td>0</td>\n",
       "      <td>0</td>\n",
       "      <td>...</td>\n",
       "      <td>0</td>\n",
       "      <td>0</td>\n",
       "      <td>0</td>\n",
       "      <td>0</td>\n",
       "      <td>0</td>\n",
       "      <td>0</td>\n",
       "      <td>1</td>\n",
       "      <td>0</td>\n",
       "      <td>0</td>\n",
       "      <td>0</td>\n",
       "    </tr>\n",
       "    <tr>\n",
       "      <th>1</th>\n",
       "      <td>-0.489290</td>\n",
       "      <td>0.854540</td>\n",
       "      <td>0.030190</td>\n",
       "      <td>-0.202292</td>\n",
       "      <td>-0.348039</td>\n",
       "      <td>-0.189366</td>\n",
       "      <td>-0.568531</td>\n",
       "      <td>110</td>\n",
       "      <td>0</td>\n",
       "      <td>0</td>\n",
       "      <td>...</td>\n",
       "      <td>0</td>\n",
       "      <td>1</td>\n",
       "      <td>0</td>\n",
       "      <td>0</td>\n",
       "      <td>0</td>\n",
       "      <td>0</td>\n",
       "      <td>1</td>\n",
       "      <td>0</td>\n",
       "      <td>0</td>\n",
       "      <td>0</td>\n",
       "    </tr>\n",
       "    <tr>\n",
       "      <th>2</th>\n",
       "      <td>0.639988</td>\n",
       "      <td>0.243123</td>\n",
       "      <td>-0.101793</td>\n",
       "      <td>-0.295917</td>\n",
       "      <td>0.798287</td>\n",
       "      <td>-0.189366</td>\n",
       "      <td>-0.503706</td>\n",
       "      <td>100</td>\n",
       "      <td>0</td>\n",
       "      <td>0</td>\n",
       "      <td>...</td>\n",
       "      <td>0</td>\n",
       "      <td>0</td>\n",
       "      <td>0</td>\n",
       "      <td>0</td>\n",
       "      <td>0</td>\n",
       "      <td>0</td>\n",
       "      <td>1</td>\n",
       "      <td>0</td>\n",
       "      <td>0</td>\n",
       "      <td>0</td>\n",
       "    </tr>\n",
       "    <tr>\n",
       "      <th>3</th>\n",
       "      <td>0.767900</td>\n",
       "      <td>-0.464922</td>\n",
       "      <td>-0.035801</td>\n",
       "      <td>0.322013</td>\n",
       "      <td>0.014402</td>\n",
       "      <td>-0.189366</td>\n",
       "      <td>-0.568531</td>\n",
       "      <td>130</td>\n",
       "      <td>0</td>\n",
       "      <td>0</td>\n",
       "      <td>...</td>\n",
       "      <td>0</td>\n",
       "      <td>0</td>\n",
       "      <td>0</td>\n",
       "      <td>0</td>\n",
       "      <td>1</td>\n",
       "      <td>0</td>\n",
       "      <td>1</td>\n",
       "      <td>0</td>\n",
       "      <td>0</td>\n",
       "      <td>0</td>\n",
       "    </tr>\n",
       "    <tr>\n",
       "      <th>4</th>\n",
       "      <td>0.925657</td>\n",
       "      <td>-0.411332</td>\n",
       "      <td>-0.101793</td>\n",
       "      <td>1.202096</td>\n",
       "      <td>2.795930</td>\n",
       "      <td>-0.189366</td>\n",
       "      <td>-0.346276</td>\n",
       "      <td>90</td>\n",
       "      <td>0</td>\n",
       "      <td>0</td>\n",
       "      <td>...</td>\n",
       "      <td>0</td>\n",
       "      <td>0</td>\n",
       "      <td>0</td>\n",
       "      <td>0</td>\n",
       "      <td>1</td>\n",
       "      <td>0</td>\n",
       "      <td>0</td>\n",
       "      <td>0</td>\n",
       "      <td>1</td>\n",
       "      <td>0</td>\n",
       "    </tr>\n",
       "  </tbody>\n",
       "</table>\n",
       "<p>5 rows × 34 columns</p>\n",
       "</div>"
      ],
      "text/plain": [
       "   latitude  longitude  minimum_nights  number_of_reviews  reviews_per_month  \\\n",
       "0 -0.708567   0.333919       -0.035801          -0.221017          -0.364897   \n",
       "1 -0.489290   0.854540        0.030190          -0.202292          -0.348039   \n",
       "2  0.639988   0.243123       -0.101793          -0.295917           0.798287   \n",
       "3  0.767900  -0.464922       -0.035801           0.322013           0.014402   \n",
       "4  0.925657  -0.411332       -0.101793           1.202096           2.795930   \n",
       "\n",
       "   calculated_host_listings_count  availability_365  price  \\\n",
       "0                       -0.189366         -0.568531    220   \n",
       "1                       -0.189366         -0.568531    110   \n",
       "2                       -0.189366         -0.503706    100   \n",
       "3                       -0.189366         -0.568531    130   \n",
       "4                       -0.189366         -0.346276     90   \n",
       "\n",
       "   neighbourhood_Bijlmer-Centrum  neighbourhood_Bijlmer-Oost  ...  \\\n",
       "0                              0                           0  ...   \n",
       "1                              0                           0  ...   \n",
       "2                              0                           0  ...   \n",
       "3                              0                           0  ...   \n",
       "4                              0                           0  ...   \n",
       "\n",
       "   neighbourhood_Oud-Noord  neighbourhood_Oud-Oost  neighbourhood_Slotervaart  \\\n",
       "0                        0                       0                          0   \n",
       "1                        0                       1                          0   \n",
       "2                        0                       0                          0   \n",
       "3                        0                       0                          0   \n",
       "4                        0                       0                          0   \n",
       "\n",
       "   neighbourhood_Watergraafsmeer  neighbourhood_Westerpark  \\\n",
       "0                              0                         0   \n",
       "1                              0                         0   \n",
       "2                              0                         0   \n",
       "3                              0                         1   \n",
       "4                              0                         1   \n",
       "\n",
       "   neighbourhood_Zuid  room_type_Entire home/apt  room_type_Hotel room  \\\n",
       "0                   0                          1                     0   \n",
       "1                   0                          1                     0   \n",
       "2                   0                          1                     0   \n",
       "3                   0                          1                     0   \n",
       "4                   0                          0                     0   \n",
       "\n",
       "   room_type_Private room  room_type_Shared room  \n",
       "0                       0                      0  \n",
       "1                       0                      0  \n",
       "2                       0                      0  \n",
       "3                       0                      0  \n",
       "4                       1                      0  \n",
       "\n",
       "[5 rows x 34 columns]"
      ]
     },
     "execution_count": 53,
     "metadata": {},
     "output_type": "execute_result"
    }
   ],
   "source": [
    "airbnb_lst_data = pd.concat([airbnb_lst_data,data_ohe],axis=1)\n",
    "airbnb_lst_data = airbnb_lst_data.drop(['neighbourhood','room_type'],axis=1)\n",
    "airbnb_lst_data.head()"
   ]
  },
  {
   "cell_type": "markdown",
   "id": "86a458cd",
   "metadata": {},
   "source": [
    "# separate x and y"
   ]
  },
  {
   "cell_type": "code",
   "execution_count": 64,
   "id": "4c24a141",
   "metadata": {},
   "outputs": [],
   "source": [
    "x = airbnb_lst_data.drop('price',axis=1)\n",
    "y = airbnb_lst_data['price']"
   ]
  },
  {
   "cell_type": "markdown",
   "id": "79dcb5a0",
   "metadata": {},
   "source": [
    "# split the data"
   ]
  },
  {
   "cell_type": "code",
   "execution_count": 67,
   "id": "17f2527d",
   "metadata": {},
   "outputs": [],
   "source": [
    "x_train,x_test,y_train,y_test = train_test_split(x,y,test_size=0.3,random_state = 0)"
   ]
  },
  {
   "cell_type": "markdown",
   "id": "8677ce45",
   "metadata": {},
   "source": [
    "# Apply linearregression on the train dataset"
   ]
  },
  {
   "cell_type": "code",
   "execution_count": 70,
   "id": "6550ac22",
   "metadata": {},
   "outputs": [
    {
     "data": {
      "text/plain": [
       "LinearRegression()"
      ]
     },
     "execution_count": 70,
     "metadata": {},
     "output_type": "execute_result"
    }
   ],
   "source": [
    "lr = LinearRegression()\n",
    "lr"
   ]
  },
  {
   "cell_type": "code",
   "execution_count": 72,
   "id": "e50fccb9",
   "metadata": {},
   "outputs": [
    {
     "data": {
      "text/plain": [
       "LinearRegression()"
      ]
     },
     "execution_count": 72,
     "metadata": {},
     "output_type": "execute_result"
    }
   ],
   "source": [
    "lr.fit(x_train,y_train)"
   ]
  },
  {
   "cell_type": "markdown",
   "id": "376f32d4",
   "metadata": {},
   "source": [
    "# Perform prediction on the test dataset"
   ]
  },
  {
   "cell_type": "code",
   "execution_count": 75,
   "id": "62d468f6",
   "metadata": {},
   "outputs": [
    {
     "data": {
      "text/plain": [
       "array([233.69826275, 226.88622677, 125.03669364, ..., 160.25781456,\n",
       "        54.01590238, 161.77453579])"
      ]
     },
     "execution_count": 75,
     "metadata": {},
     "output_type": "execute_result"
    }
   ],
   "source": [
    "y_pred = lr.predict(x_test)\n",
    "y_pred"
   ]
  },
  {
   "cell_type": "markdown",
   "id": "b34a3e6b",
   "metadata": {},
   "source": [
    "# Evaluation"
   ]
  },
  {
   "cell_type": "code",
   "execution_count": 78,
   "id": "9572f84b",
   "metadata": {},
   "outputs": [
    {
     "data": {
      "text/plain": [
       "0.03522402412790038"
      ]
     },
     "execution_count": 78,
     "metadata": {},
     "output_type": "execute_result"
    }
   ],
   "source": [
    "r2_score(y_test,y_pred)"
   ]
  },
  {
   "cell_type": "markdown",
   "id": "09e1f0c8",
   "metadata": {},
   "source": [
    "## Using KNeighborsRegressor"
   ]
  },
  {
   "cell_type": "code",
   "execution_count": 81,
   "id": "1600ea18",
   "metadata": {},
   "outputs": [
    {
     "data": {
      "text/plain": [
       "KNeighborsRegressor()"
      ]
     },
     "execution_count": 81,
     "metadata": {},
     "output_type": "execute_result"
    }
   ],
   "source": [
    "knr = KNeighborsRegressor()\n",
    "knr"
   ]
  },
  {
   "cell_type": "code",
   "execution_count": 83,
   "id": "7ed264ca",
   "metadata": {},
   "outputs": [
    {
     "data": {
      "text/plain": [
       "KNeighborsRegressor()"
      ]
     },
     "execution_count": 83,
     "metadata": {},
     "output_type": "execute_result"
    }
   ],
   "source": [
    "knr.fit(x_train,y_train)"
   ]
  },
  {
   "cell_type": "code",
   "execution_count": 90,
   "id": "ddb19beb",
   "metadata": {},
   "outputs": [
    {
     "data": {
      "text/plain": [
       "array([170. , 148.8, 115. , ..., 320. ,  76.2, 199.8])"
      ]
     },
     "execution_count": 90,
     "metadata": {},
     "output_type": "execute_result"
    }
   ],
   "source": [
    "y_pred_knr = knr.predict(x_test)\n",
    "y_pred_knr"
   ]
  },
  {
   "cell_type": "code",
   "execution_count": 91,
   "id": "e028bfb0",
   "metadata": {},
   "outputs": [
    {
     "data": {
      "text/plain": [
       "0.2318172233622111"
      ]
     },
     "execution_count": 91,
     "metadata": {},
     "output_type": "execute_result"
    }
   ],
   "source": [
    "r2_score(y_test,y_pred_knr)"
   ]
  },
  {
   "cell_type": "markdown",
   "id": "1e6890e3",
   "metadata": {},
   "source": [
    "- KNeighborsRegressor is better than LinearRegression for the above data."
   ]
  },
  {
   "cell_type": "code",
   "execution_count": null,
   "id": "3dfef76d",
   "metadata": {},
   "outputs": [],
   "source": []
  }
 ],
 "metadata": {
  "kernelspec": {
   "display_name": "anaconda-2022.05-py39",
   "language": "python",
   "name": "conda-env-anaconda-2022.05-py39-py"
  },
  "language_info": {
   "codemirror_mode": {
    "name": "ipython",
    "version": 3
   },
   "file_extension": ".py",
   "mimetype": "text/x-python",
   "name": "python",
   "nbconvert_exporter": "python",
   "pygments_lexer": "ipython3",
   "version": "3.9.12"
  }
 },
 "nbformat": 4,
 "nbformat_minor": 5
}
