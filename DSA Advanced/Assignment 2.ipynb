{
 "cells": [
  {
   "cell_type": "markdown",
   "metadata": {},
   "source": [
    "## 1.Implement Binary Search."
   ]
  },
  {
   "cell_type": "code",
   "execution_count": 1,
   "metadata": {},
   "outputs": [
    {
     "name": "stdout",
     "output_type": "stream",
     "text": [
      "Element found at index 4.\n"
     ]
    }
   ],
   "source": [
    "def binary_search(arr, target):\n",
    "    low = 0\n",
    "    high = len(arr) - 1\n",
    "    while low <= high:\n",
    "        mid = (low + high) // 2\n",
    "        if arr[mid] == target:\n",
    "            return mid\n",
    "        elif arr[mid] < target:\n",
    "            low = mid + 1\n",
    "        else:\n",
    "            high = mid - 1\n",
    "    return -1\n",
    "\n",
    "# Taking user input for a sorted list of integers\n",
    "input_list = input(\"Enter a sorted list of numbers separated by space: \").split()\n",
    "sorted_list = [int(num) for num in input_list]\n",
    "target_element = int(input(\"Enter the number to search for: \"))\n",
    "\n",
    "# Perform binary search on the sorted list\n",
    "result = binary_search(sorted_list, target_element)\n",
    "\n",
    "if result != -1:\n",
    "    print(f\"Element found at index {result}.\")\n",
    "else:\n",
    "    print(\"Element not found in the list.\")\n"
   ]
  },
  {
   "cell_type": "markdown",
   "metadata": {},
   "source": [
    "## 2.Implement Merge Sort"
   ]
  },
  {
   "cell_type": "code",
   "execution_count": 2,
   "metadata": {},
   "outputs": [
    {
     "name": "stdout",
     "output_type": "stream",
     "text": [
      "Unsorted List: [1, 8, 3, 6, 10, -2, 5]\n",
      "Sorted List: [-2, 1, 3, 5, 6, 8, 10]\n"
     ]
    }
   ],
   "source": [
    "def merge_sort(arr):\n",
    "    if len(arr) > 1:\n",
    "        mid = len(arr) // 2\n",
    "        left_half = arr[:mid]\n",
    "        right_half = arr[mid:]\n",
    "\n",
    "        merge_sort(left_half)\n",
    "        merge_sort(right_half)\n",
    "\n",
    "        i = j = k = 0\n",
    "\n",
    "        # Merge the two sorted halves\n",
    "        while i < len(left_half) and j < len(right_half):\n",
    "            if left_half[i] < right_half[j]:\n",
    "                arr[k] = left_half[i]\n",
    "                i += 1\n",
    "            else:\n",
    "                arr[k] = right_half[j]\n",
    "                j += 1\n",
    "            k += 1\n",
    "\n",
    "        # Check for any remaining elements\n",
    "        while i < len(left_half):\n",
    "            arr[k] = left_half[i]\n",
    "            i += 1\n",
    "            k += 1\n",
    "\n",
    "        while j < len(right_half):\n",
    "            arr[k] = right_half[j]\n",
    "            j += 1\n",
    "            k += 1\n",
    "\n",
    "\n",
    "# Taking user input for a list of integers\n",
    "input_list = input(\"Enter a list of numbers separated by space: \").split()\n",
    "input_numbers = [int(num) for num in input_list]\n",
    "\n",
    "print(\"Unsorted List:\", input_numbers)\n",
    "\n",
    "# Perform merge sort on the input list\n",
    "merge_sort(input_numbers)\n",
    "\n",
    "print(\"Sorted List:\", input_numbers)\n"
   ]
  },
  {
   "cell_type": "markdown",
   "metadata": {},
   "source": [
    "## 3.Implement Quick Sort."
   ]
  },
  {
   "cell_type": "code",
   "execution_count": 3,
   "metadata": {},
   "outputs": [
    {
     "name": "stdout",
     "output_type": "stream",
     "text": [
      "Unsorted List: [3, -10, -99, 6, 5, 21]\n",
      "Sorted List: [-99, -10, 3, 5, 6, 21]\n"
     ]
    }
   ],
   "source": [
    "def partition(arr, low, high):\n",
    "    pivot = arr[high]\n",
    "    i = low - 1\n",
    "\n",
    "    for j in range(low, high):\n",
    "        if arr[j] <= pivot:\n",
    "            i += 1\n",
    "            arr[i], arr[j] = arr[j], arr[i]\n",
    "\n",
    "    arr[i + 1], arr[high] = arr[high], arr[i + 1]\n",
    "    return i + 1\n",
    "\n",
    "def quick_sort(arr, low, high):\n",
    "    if low < high:\n",
    "        pivot_index = partition(arr, low, high)\n",
    "\n",
    "        quick_sort(arr, low, pivot_index - 1)\n",
    "        quick_sort(arr, pivot_index + 1, high)\n",
    "\n",
    "# Taking user input for a list of integers\n",
    "input_list = input(\"Enter a list of numbers separated by space: \").split()\n",
    "input_numbers = [int(num) for num in input_list]\n",
    "\n",
    "print(\"Unsorted List:\", input_numbers)\n",
    "\n",
    "# Perform Quick Sort on the input list\n",
    "quick_sort(input_numbers, 0, len(input_numbers) - 1)\n",
    "\n",
    "print(\"Sorted List:\", input_numbers)\n"
   ]
  },
  {
   "cell_type": "markdown",
   "metadata": {},
   "source": [
    "## 4.Implement Insertion Sort."
   ]
  },
  {
   "cell_type": "code",
   "execution_count": 4,
   "metadata": {},
   "outputs": [
    {
     "name": "stdout",
     "output_type": "stream",
     "text": [
      "Unsorted List: [5, -29, 74, 81, -65]\n",
      "Sorted List: [-65, -29, 5, 74, 81]\n"
     ]
    }
   ],
   "source": [
    "def insertion_sort(arr):\n",
    "    for i in range(1, len(arr)):\n",
    "        key = arr[i]\n",
    "        j = i - 1\n",
    "        while j >= 0 and key < arr[j]:\n",
    "            arr[j + 1] = arr[j]\n",
    "            j -= 1\n",
    "        arr[j + 1] = key\n",
    "\n",
    "# Taking user input for a list of integers\n",
    "input_list = input(\"Enter a list of numbers separated by space: \").split()\n",
    "input_numbers = [int(num) for num in input_list]\n",
    "\n",
    "print(\"Unsorted List:\", input_numbers)\n",
    "\n",
    "# Perform Insertion Sort on the input list\n",
    "insertion_sort(input_numbers)\n",
    "\n",
    "print(\"Sorted List:\", input_numbers)\n"
   ]
  },
  {
   "cell_type": "markdown",
   "metadata": {},
   "source": [
    "## 5.Write a program to sort list of strings (similar to that of dictionary)."
   ]
  },
  {
   "cell_type": "code",
   "execution_count": 8,
   "metadata": {},
   "outputs": [
    {
     "name": "stdout",
     "output_type": "stream",
     "text": [
      "Unsorted List: ['abc', 'ef', 'd']\n",
      "Sorted List: ['abc', 'd', 'ef']\n"
     ]
    }
   ],
   "source": [
    "def d_sort(strings_list):\n",
    "    sorted_list = sorted(strings_list)\n",
    "    return sorted_list\n",
    "\n",
    "# Taking user input for a list of strings\n",
    "input_list = input(\"Enter a list of strings separated by space: \").split()\n",
    "\n",
    "print(\"Unsorted List:\", input_list)\n",
    "\n",
    "# Perform dictionary-like sorting on the input list\n",
    "sorted_strings = d_sort(input_list)\n",
    "\n",
    "print(\"Sorted List:\", sorted_strings)\n"
   ]
  },
  {
   "cell_type": "code",
   "execution_count": null,
   "metadata": {},
   "outputs": [],
   "source": []
  }
 ],
 "metadata": {
  "kernelspec": {
   "display_name": "Python 3",
   "language": "python",
   "name": "python3"
  },
  "language_info": {
   "codemirror_mode": {
    "name": "ipython",
    "version": 3
   },
   "file_extension": ".py",
   "mimetype": "text/x-python",
   "name": "python",
   "nbconvert_exporter": "python",
   "pygments_lexer": "ipython3",
   "version": "3.11.4"
  }
 },
 "nbformat": 4,
 "nbformat_minor": 2
}
