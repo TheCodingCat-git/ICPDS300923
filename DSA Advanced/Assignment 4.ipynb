{
 "cells": [
  {
   "cell_type": "markdown",
   "metadata": {},
   "source": [
    "## 1. Breadth First Traversal for a Graph."
   ]
  },
  {
   "cell_type": "code",
   "execution_count": 5,
   "metadata": {},
   "outputs": [
    {
     "name": "stdout",
     "output_type": "stream",
     "text": [
      "BFS Traversal:\n",
      "0 1 2 3 4 "
     ]
    }
   ],
   "source": [
    "def bfs(graph, start):\n",
    "    queue = []\n",
    "    visited = set()\n",
    "\n",
    "    queue.append(start)\n",
    "    visited.add(start)\n",
    "\n",
    "    while queue:\n",
    "        node = queue.pop(0)\n",
    "        print(node, end=' ')\n",
    "\n",
    "        for neighbor in graph.get(node, []):  # Use `get` to handle missing keys\n",
    "            if neighbor not in visited:\n",
    "                queue.append(neighbor)\n",
    "                visited.add(neighbor)\n",
    "\n",
    "# Get graph input from the user\n",
    "num_nodes = int(input(\"Enter the number of nodes: \"))\n",
    "graph = {}\n",
    "for i in range(num_nodes):\n",
    "    node_label = input(f\"Enter label for node {i+1}: \")\n",
    "    graph[node_label] = list(input(f\"Enter neighbors of node {node_label} (separated by spaces): \").split())\n",
    "\n",
    "# Get starting node from the user\n",
    "start_node = input(\"Enter the starting node for BFS: \")\n",
    "\n",
    "# Perform BFS traversal\n",
    "print(\"BFS Traversal:\")\n",
    "bfs(graph, start_node)\n"
   ]
  },
  {
   "cell_type": "markdown",
   "metadata": {},
   "source": [
    "## 2. Depth First Traversal for a Graph"
   ]
  },
  {
   "cell_type": "code",
   "execution_count": 6,
   "metadata": {},
   "outputs": [
    {
     "name": "stdout",
     "output_type": "stream",
     "text": [
      "DFS Traversal:\n",
      "2 0 1 3 "
     ]
    }
   ],
   "source": [
    "def dfs(graph, start):\n",
    "    stack = []\n",
    "    visited = set()\n",
    "\n",
    "    stack.append(start)\n",
    "    visited.add(start)\n",
    "\n",
    "    while stack:\n",
    "        node = stack.pop()\n",
    "        print(node, end=' ')\n",
    "\n",
    "        for neighbor in reversed(graph.get(node, [])):  # Reverse for depth-first behavior\n",
    "            if neighbor not in visited:\n",
    "                stack.append(neighbor)\n",
    "                visited.add(neighbor)\n",
    "\n",
    "# Get graph input from the user (same as BFS code)\n",
    "num_nodes = int(input(\"Enter the number of nodes: \"))\n",
    "graph = {}\n",
    "for i in range(num_nodes):\n",
    "    node_label = input(f\"Enter label for node {i+1}: \")\n",
    "    graph[node_label] = list(input(f\"Enter neighbors of node {node_label} (separated by spaces): \").split())\n",
    "\n",
    "# Get starting node from the user\n",
    "start_node = input(\"Enter the starting node for DFS: \")\n",
    "\n",
    "# Perform DFS traversal\n",
    "print(\"DFS Traversal:\")\n",
    "dfs(graph, start_node)\n"
   ]
  },
  {
   "cell_type": "markdown",
   "metadata": {},
   "source": [
    "## 3. Count the number of nodes at given level in a tree using BFS."
   ]
  },
  {
   "cell_type": "code",
   "execution_count": 10,
   "metadata": {},
   "outputs": [
    {
     "name": "stdout",
     "output_type": "stream",
     "text": [
      "Number of nodes at level 1: 2\n"
     ]
    }
   ],
   "source": [
    "class Node:\n",
    "    def __init__(self, value, left=None, right=None):\n",
    "        self.value = value\n",
    "        self.left = left\n",
    "        self.right = right\n",
    "\n",
    "def count_nodes_at_level(root, level):\n",
    "    if not root:\n",
    "        return 0\n",
    "    queue = [(root, 0)]\n",
    "    count = 0\n",
    "    while queue:\n",
    "        node, current_level = queue.pop(0)\n",
    "        if current_level == level:\n",
    "            count += 1\n",
    "        if node.left:\n",
    "            queue.append((node.left, current_level + 1))\n",
    "        if node.right:\n",
    "            queue.append((node.right, current_level + 1))\n",
    "    return count\n",
    "\n",
    "# Get tree input from the user\n",
    "root_value = input(\"Enter the value of the root node: \")\n",
    "root = Node(root_value)\n",
    "\n",
    "# Recursively build the tree based on user input\n",
    "def build_tree(node):\n",
    "    left_value = input(f\"Enter the value of the left child of {node.value} (or 'None'): \")\n",
    "    if left_value != \"None\":\n",
    "        node.left = Node(left_value)\n",
    "        build_tree(node.left)\n",
    "    right_value = input(f\"Enter the value of the right child of {node.value} (or 'None'): \")\n",
    "    if right_value != \"None\":\n",
    "        node.right = Node(right_value)\n",
    "        build_tree(node.right)\n",
    "\n",
    "build_tree(root)\n",
    "\n",
    "# Get the desired level from the user\n",
    "level = int(input(\"Enter the level for which you want to count nodes: \"))\n",
    "\n",
    "# Count nodes at the specified level\n",
    "number_of_nodes = count_nodes_at_level(root, level)\n",
    "print(f\"Number of nodes at level {level}: {number_of_nodes}\")\n"
   ]
  },
  {
   "cell_type": "markdown",
   "metadata": {},
   "source": [
    "## 4. Count number of trees in a forest."
   ]
  },
  {
   "cell_type": "code",
   "execution_count": 12,
   "metadata": {},
   "outputs": [
    {
     "name": "stdout",
     "output_type": "stream",
     "text": [
      "2\n"
     ]
    }
   ],
   "source": [
    "def addEdge(adj, u, v):\n",
    "\tadj[u].append(v) \n",
    "\tadj[v].append(u)\n",
    "\n",
    "# A utility function to do DFS of graph \n",
    "# recursively from a given vertex u. \n",
    "def DFSUtil(u, adj, visited):\n",
    "\tvisited[u] = True\n",
    "\tfor i in range(len(adj[u])):\n",
    "\t\tif (visited[adj[u][i]] == False):\n",
    "\t\t\tDFSUtil(adj[u][i], adj, visited)\n",
    "\n",
    "# Returns count of tree is the \n",
    "# forest given as adjacency list. \n",
    "def countTrees(adj, V):\n",
    "\tvisited = [False] * V \n",
    "\tres = 0\n",
    "\tfor u in range(V):\n",
    "\t\tif (visited[u] == False):\n",
    "\t\t\tDFSUtil(u, adj, visited) \n",
    "\t\t\tres += 1\n",
    "\treturn res\n",
    "\n",
    "# Driver code \n",
    "if __name__ == '__main__':\n",
    "\n",
    "\tV = 5\n",
    "\tadj = [[] for i in range(V)] \n",
    "\taddEdge(adj, 0, 1) \n",
    "\taddEdge(adj, 0, 2) \n",
    "\taddEdge(adj, 3, 4) \n",
    "\tprint(countTrees(adj, V))\n"
   ]
  },
  {
   "cell_type": "markdown",
   "metadata": {},
   "source": [
    "## 5. Detect Cycle in a Directed Graph."
   ]
  },
  {
   "cell_type": "code",
   "execution_count": 13,
   "metadata": {},
   "outputs": [
    {
     "name": "stdout",
     "output_type": "stream",
     "text": [
      "Cycle detected in the graph.\n"
     ]
    }
   ],
   "source": [
    "def detect_cycle(graph):\n",
    "    \"\"\"\n",
    "    Detects a cycle in a directed graph using DFS.\n",
    "\n",
    "    Args:\n",
    "        graph: A list of lists representing the graph as an adjacency list.\n",
    "\n",
    "    Returns:\n",
    "        True if a cycle is found, False otherwise.\n",
    "    \"\"\"\n",
    "\n",
    "    visited = set()\n",
    "    recstack = set()  # To keep track of nodes in the current recursion stack\n",
    "\n",
    "    def dfs(node):\n",
    "        visited.add(node)\n",
    "        recstack.add(node)\n",
    "        for neighbor in graph[node]:\n",
    "            if neighbor in recstack:  # Cycle detected if a neighbor is already in the recursion stack\n",
    "                return True\n",
    "            if neighbor not in visited:\n",
    "                if dfs(neighbor):\n",
    "                    return True\n",
    "        recstack.remove(node)  # Remove node from recursion stack after exploring all its neighbors\n",
    "        return False\n",
    "\n",
    "    for node in range(len(graph)):\n",
    "        if node not in visited:\n",
    "            if dfs(node):\n",
    "                return True\n",
    "    return False\n",
    "\n",
    "# Get graph input from the user\n",
    "num_nodes = int(input(\"Enter the number of nodes: \"))\n",
    "graph = [[] for _ in range(num_nodes)]\n",
    "num_edges = int(input(\"Enter the number of edges: \"))\n",
    "for _ in range(num_edges):\n",
    "    u, v = map(int, input(\"Enter an edge (u, v) sperated by spaces: \").split())\n",
    "    graph[u].append(v)\n",
    "\n",
    "# Detect and print the result\n",
    "if detect_cycle(graph):\n",
    "    print(\"Cycle detected in the graph.\")\n",
    "else:\n",
    "    print(\"No cycle detected in the graph.\")\n"
   ]
  },
  {
   "cell_type": "markdown",
   "metadata": {},
   "source": [
    "## 6. Implement n-Queen’s Problem."
   ]
  },
  {
   "cell_type": "code",
   "execution_count": 14,
   "metadata": {},
   "outputs": [
    {
     "name": "stdout",
     "output_type": "stream",
     "text": [
      "0 0 1 0 \n",
      "1 0 0 0 \n",
      "0 0 0 1 \n",
      "0 1 0 0 \n"
     ]
    }
   ],
   "source": [
    "N = 4\n",
    "\n",
    "ld = [0] * 30\n",
    "\n",
    "\n",
    "rd = [0] * 30\n",
    "\n",
    "cl = [0] * 30\n",
    "\n",
    "\n",
    "# A utility function to print solution\n",
    "def printSolution(board):\n",
    "\tfor i in range(N):\n",
    "\t\tfor j in range(N):\n",
    "\t\t\tprint(board[i][j], end=\" \")\n",
    "\t\tprint()\n",
    "\n",
    "\n",
    "# A recursive utility function to solve N\n",
    "# Queen problem\n",
    "def solveNQUtil(board, col):\n",
    "\n",
    "\t# Base case: If all queens are placed\n",
    "\t# then return True\n",
    "\tif (col >= N):\n",
    "\t\treturn True\n",
    "\n",
    "\t# Consider this column and try placing\n",
    "\t# this queen in all rows one by one\n",
    "\tfor i in range(N):\n",
    "\n",
    "\t\tif ((ld[i - col + N - 1] != 1 and\n",
    "\t\t\trd[i + col] != 1) and cl[i] != 1):\n",
    "\n",
    "\t\t\t# Place this queen in board[i][col]\n",
    "\t\t\tboard[i][col] = 1\n",
    "\t\t\tld[i - col + N - 1] = rd[i + col] = cl[i] = 1\n",
    "\n",
    "\t\t\t# Recur to place rest of the queens\n",
    "\t\t\tif (solveNQUtil(board, col + 1)):\n",
    "\t\t\t\treturn True\n",
    "\n",
    "\t\t\t# If placing queen in board[i][col]\n",
    "\t\t\t# doesn't lead to a solution,\n",
    "\t\t\t# then remove queen from board[i][col]\n",
    "\t\t\tboard[i][col] = 0 # BACKTRACK\n",
    "\t\t\tld[i - col + N - 1] = rd[i + col] = cl[i] = 0\n",
    "\n",
    "\t\t\t# If the queen cannot be placed in\n",
    "\t\t\t# any row in this column col then return False\n",
    "\treturn False\n",
    "\n",
    "def solveNQ():\n",
    "\tboard = [[0, 0, 0, 0],\n",
    "\t\t\t[0, 0, 0, 0],\n",
    "\t\t\t[0, 0, 0, 0],\n",
    "\t\t\t[0, 0, 0, 0]]\n",
    "\tif (solveNQUtil(board, 0) == False):\n",
    "\t\tprintf(\"Solution does not exist\")\n",
    "\t\treturn False\n",
    "\tprintSolution(board)\n",
    "\treturn True\n",
    "\n",
    "\n",
    "# Driver Code\n",
    "if __name__ == '__main__':\n",
    "\tsolveNQ()\n",
    "\n"
   ]
  }
 ],
 "metadata": {
  "kernelspec": {
   "display_name": "Python 3",
   "language": "python",
   "name": "python3"
  },
  "language_info": {
   "codemirror_mode": {
    "name": "ipython",
    "version": 3
   },
   "file_extension": ".py",
   "mimetype": "text/x-python",
   "name": "python",
   "nbconvert_exporter": "python",
   "pygments_lexer": "ipython3",
   "version": "3.11.4"
  }
 },
 "nbformat": 4,
 "nbformat_minor": 2
}
